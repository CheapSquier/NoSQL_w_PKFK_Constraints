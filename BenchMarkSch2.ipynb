{
 "cells": [
  {
   "cell_type": "code",
   "execution_count": 1,
   "metadata": {},
   "outputs": [],
   "source": [
    "RunningDB = True\n",
    "import aerospike\n",
    "import sys\n",
    "import json\n",
    "import time\n",
    "import random\n",
    "import statistics\n",
    "import pprint\n",
    "\n",
    "import math"
   ]
  },
  {
   "cell_type": "code",
   "execution_count": 2,
   "metadata": {},
   "outputs": [
    {
     "name": "stdout",
     "output_type": "stream",
     "text": [
      "Current Python version:  3 . 6 . 8\n"
     ]
    }
   ],
   "source": [
    "print(\"Current Python version: \", sys.version_info[0],\".\",sys.version_info[1],\".\",sys.version_info[2])"
   ]
  },
  {
   "cell_type": "code",
   "execution_count": 3,
   "metadata": {},
   "outputs": [],
   "source": [
    "_useAllTimes = False\n",
    "_print_raw = False"
   ]
  },
  {
   "cell_type": "markdown",
   "metadata": {},
   "source": [
    "mport the Table class used to build Table schema"
   ]
  },
  {
   "cell_type": "code",
   "execution_count": 4,
   "metadata": {},
   "outputs": [],
   "source": [
    "from Private_Pkgs.Table import Table\n",
    "from Private_Pkgs.DataRecordingUtils import drutils\n",
    "\n",
    "\n",
    "from IPython.core.debugger import set_trace"
   ]
  },
  {
   "cell_type": "code",
   "execution_count": 5,
   "metadata": {},
   "outputs": [],
   "source": [
    "def BuildTables():\n",
    "    MechTable = Table(\"test_DB_SEF\", \"mechanics\")\n",
    "    MechTable.AddCol(\"mech_num\")\n",
    "    MechTable.AddCol(\"mech_name\")\n",
    "    MechTable.AddCol(\"mech_salary\")\n",
    "    MechTable.AddCol(\"mech_specialty\")\n",
    "    MechTable.AddPK(\"mech_num\")\n",
    "    if MechTable.VerifyFKrefsCompletePK():\n",
    "        print(MechTable.TableName, \"has complete FK to PK references (or none exist in table)\")\n",
    "\n",
    "    CarTable = Table(\"test_DB_SEF\", \"cars\")\n",
    "    CarTable.AddCol(\"car_num\")\n",
    "    CarTable.AddCol(\"car_model\")\n",
    "    CarTable.AddCol(\"car_year\")\n",
    "    CarTable.AddPK(\"car_num\")\n",
    "    if CarTable.VerifyFKrefsCompletePK():\n",
    "        print(CarTable.TableName, \"has complete FK to PK references (or none exist in table)\")\n",
    "\n",
    "    ReprTable = Table(\"test_DB_SEF\", \"repairs\")\n",
    "    ReprTable.AddCol(\"mech_num\")\n",
    "    ReprTable.AddCol(\"car_num\")\n",
    "    ReprTable.AddCol(\"repair_date\")\n",
    "    ReprTable.AddPK(\"mech_num\")\n",
    "    ReprTable.AddPK(\"car_num\")\n",
    "    ReprTable.AddPK(\"repair_date\")\n",
    "    ReprTable.AddFK(\"mech_num\", \"mechanics\", \"mech_num\")\n",
    "    ReprTable.AddFK(\"car_num\", \"cars\", \"car_num\")\n",
    "    if ReprTable.VerifyFKrefsCompletePK():\n",
    "        print(ReprTable.TableName, \"has complete FK to PK references (or none exist in table)\")\n",
    "    return True"
   ]
  },
  {
   "cell_type": "code",
   "execution_count": 6,
   "metadata": {},
   "outputs": [],
   "source": [
    "def InsertData():\n",
    "    rprTable_times = []\n",
    "    insertAll_times = {}\n",
    "    MechTable = Table._registry[0]\n",
    "    CarTable = Table._registry[1]\n",
    "    RepairTable = Table._registry[2]\n",
    "    for rowNum in range(0,int(NumberRows)):\n",
    "        thisRow = [rowNum,\"someName\", \"someSalary\", \"someSpecialty\"]\n",
    "        MechTable.Insert(thisRow)\n",
    "        thisRow = [rowNum,\"someCar\", \"someYear\"]\n",
    "        CarTable.Insert(thisRow)\n",
    "\n",
    "    NumberHashesPerFK = 5\n",
    "\n",
    "    for rowNum in range(0,int(NumberRows)):\n",
    "        mechNum = math.floor(rowNum/NumberHashesPerFK)\n",
    "        carNum = math.floor(rowNum/NumberHashesPerFK)\n",
    "        thisRow =  [mechNum,carNum,\"someRepairDate\"+str(rowNum)] #The composite PK. Both rowNums are FKs\n",
    "        t0 = time.time()\n",
    "        RepairTable.Insert(thisRow)\n",
    "        t1 = time.time()\n",
    "        rprTable_times.append((t1 - t0) * 1000) # Times are in S so *1000 makes units mS\n",
    "    insertAll_times[\"RepairTable\"] = rprTable_times\n",
    "    return(insertAll_times)"
   ]
  },
  {
   "cell_type": "code",
   "execution_count": 7,
   "metadata": {},
   "outputs": [],
   "source": [
    "def UpdateData():\n",
    "    rprTable_times = []\n",
    "    All_times = {}\n",
    "    MechTable = Table._registry[0]\n",
    "    CarTable = Table._registry[1]\n",
    "    RepairTable = Table._registry[2]\n",
    "    #Setup a random, no repeating sequence\n",
    "    random.seed(42)\n",
    "    row_seq = list(range(0, NumberRows))\n",
    "    random.shuffle(row_seq)\n",
    "    for idx in range(0, int(NumberRows/2)):\n",
    "        thisRow =[]\n",
    "        thisRow.append(row_seq[idx]) #1st element of PK\n",
    "        thisRow.append(row_seq[idx]) #2nd element of PK\n",
    "        thisRow.append(str(\"someRepairDateX\"+str(row_seq[idx]))) # 3rd element of PK that will make the PK unique\n",
    "        t0 = time.time()\n",
    "        RepairTable.Update(thisRow)\n",
    "        #print(\"TableA update: \", thisRow)\n",
    "        t1 = time.time()\n",
    "        rprTable_times.append((t1 - t0) * 1000) # Times are in S so *1000 makes units mS\n",
    "        \n",
    "    All_times[\"RepairTable\"] = rprTable_times\n",
    "    return(All_times)"
   ]
  },
  {
   "cell_type": "code",
   "execution_count": 8,
   "metadata": {},
   "outputs": [],
   "source": [
    "def DeleteData():\n",
    "    mechTable_times = []\n",
    "    carTable_times = []\n",
    "    rprTable_times = []\n",
    "    All_times = {}\n",
    "    MechTable = Table._registry[0]\n",
    "    CarTable = Table._registry[1]\n",
    "    RepairTable = Table._registry[2]\n",
    "    #Setup a random, no repeating sequence\n",
    "    random.seed(42)\n",
    "    row_seq = list(range(0, NumberRows))\n",
    "    random.shuffle(row_seq)\n",
    "    \n",
    "    for idx in range(0, int(NumberRows/2)):\n",
    "        t0 = time.time()\n",
    "        RepairTable.Delete([row_seq[idx],row_seq[idx],\"someRepairDate\"])\n",
    "        t1 = time.time()\n",
    "        rprTable_times.append((t1 - t0) * 1000) # Times are in S so *1000 makes units mS\n",
    "        \n",
    "        t0 = time.time()\n",
    "        MechTable.Delete([row_seq[idx]])\n",
    "        t1 = time.time()\n",
    "        mechTable_times.append((t1 - t0) * 1000) # Times are in S so *1000 makes units mS\n",
    "        \n",
    "        t0 = time.time()\n",
    "        CarTable.Delete([row_seq[idx]])\n",
    "        t1 = time.time()\n",
    "        carTable_times.append((t1 - t0) * 1000) # Times are in S so *1000 makes units mS\n",
    "        \n",
    "    All_times[\"RepairTable\"] = rprTable_times\n",
    "    All_times[\"MechTable\"] = mechTable_times\n",
    "    All_times[\"CarTable\"] = carTable_times\n",
    "    return(All_times)"
   ]
  },
  {
   "cell_type": "code",
   "execution_count": 9,
   "metadata": {},
   "outputs": [],
   "source": [
    "def report_times(insertAll_times, silent = False):\n",
    "    BenchTimes = {}\n",
    "    benchdata.rcrd_data(str(\"Statistics for Insert with {} rows, Verify Constraints set to: {}\").format(NumberRows,Table.GetVerifyConstraints()))\n",
    "    for dataKey in insertAll_times:\n",
    "        insert_times = insertAll_times[dataKey]\n",
    "        if _print_raw:\n",
    "            print(\"Raw insert times for:\", dataKey)\n",
    "            pp = pprint.PrettyPrinter(indent=4)\n",
    "            pp.pprint(insert_times)\n",
    "        BenchTimes[dataKey] = (NumberRows, Table.GetVerifyConstraints(), \n",
    "                         statistics.median(insert_times),\n",
    "                         statistics.mean(insert_times),\n",
    "                         statistics.stdev(insert_times))\n",
    "        print(\"Statistics for: \", dataKey)\n",
    "        benchdata.rcrd_data(\"\\tMEDIAN\"+str(statistics.median(insert_times))+\" ms\")\n",
    "        benchdata.rcrd_data(\"\\tMEAN  \"+str(statistics.mean(insert_times))+\" ms\")\n",
    "        benchdata.rcrd_data(\"\\tSTDEV \"+str(statistics.stdev(insert_times))+\" ms\")\n",
    "    return BenchTimes"
   ]
  },
  {
   "cell_type": "code",
   "execution_count": 10,
   "metadata": {},
   "outputs": [],
   "source": [
    "def report_statistics(withConBenchTimeAll, noConBenchTimeAll):\n",
    "    for withConKey, noConKey in zip(withConBenchTimeAll, noConBenchTimeAll):\n",
    "        print(\"Statistics for: \", withConKey)\n",
    "        withConBenchTime = withConBenchTimeAll[withConKey]\n",
    "        noConBenchTime = noConBenchTimeAll[noConKey]\n",
    "        benchdata.rcrd_data()\n",
    "        benchdata.rcrd_data(\"\\tWith Constraints:\\t\\tWithout Constraints\\t\\tPercent Difference, {} rows\".format(noConBenchTime[0]))\n",
    "        benchdata.rcrd_data(\"MEDIAN:\\t{} \\t\\t{} ms\\t\\t{}\".format(withConBenchTime[2],noConBenchTime[2],\n",
    "             (withConBenchTime[2]-noConBenchTime[2])/noConBenchTime[2]*100))\n",
    "        benchdata.rcrd_data(\"MEAN:\\t{} \\t\\t{} ms\\t\\t{}\".format(withConBenchTime[3],noConBenchTime[3],\n",
    "             (withConBenchTime[3]-noConBenchTime[2])/noConBenchTime[3]*100))\n",
    "        benchdata.rcrd_data(\"STDEV:\\t{} \\t\\t{} ms\\t\\t{}\".format(withConBenchTime[4],noConBenchTime[4],\n",
    "             (withConBenchTime[4]-noConBenchTime[4])/noConBenchTime[4]*100))\n",
    "        benchdata.rcrd_data()\n",
    "    return"
   ]
  },
  {
   "cell_type": "code",
   "execution_count": 11,
   "metadata": {},
   "outputs": [
    {
     "name": "stdout",
     "output_type": "stream",
     "text": [
      "Debug mode is Off\n"
     ]
    }
   ],
   "source": [
    "Table.SetDebugMode(False)\n",
    "Table.GetDebugMode()"
   ]
  },
  {
   "cell_type": "markdown",
   "metadata": {},
   "source": [
    "***Open communication with the database***<br>\n",
    "Specify the IP addresses and ports for the Aerospike cluster"
   ]
  },
  {
   "cell_type": "code",
   "execution_count": 12,
   "metadata": {},
   "outputs": [],
   "source": [
    "config = {\n",
    "  'hosts': [ ('18.221.189.247', 3000), ('18.224.137.105', 3000) ]\n",
    "}\n",
    "# Create a client and connect it to the cluster\n",
    "if RunningDB:\n",
    "    try:\n",
    "      client = aerospike.client(config).connect()\n",
    "    except:\n",
    "      print(\"failed to connect to the cluster with\", config['hosts'])\n",
    "      sys.exit(1)\n",
    "else:\n",
    "    client = FakeAerospike(config) #.connect()"
   ]
  },
  {
   "cell_type": "markdown",
   "metadata": {},
   "source": [
    "e sure to tell the Table class the name of the client it's talking to"
   ]
  },
  {
   "cell_type": "code",
   "execution_count": 13,
   "metadata": {},
   "outputs": [
    {
     "name": "stdout",
     "output_type": "stream",
     "text": [
      "Info: Table Client Set, connection state is:  True\n"
     ]
    }
   ],
   "source": [
    "Table.SetTableClient(client)"
   ]
  },
  {
   "cell_type": "markdown",
   "metadata": {},
   "source": [
    "==============================================<br>\n",
    "   Start of Main Program Loop<br>\n",
    "=============================================="
   ]
  },
  {
   "cell_type": "code",
   "execution_count": 14,
   "metadata": {},
   "outputs": [],
   "source": [
    "if len(sys.argv) == 0:\n",
    "    NumberRows = input(\"How many records to BenchMark?\")\n",
    "else:\n",
    "    NumberRows = sys.argv[1]"
   ]
  },
  {
   "cell_type": "code",
   "execution_count": 15,
   "metadata": {},
   "outputs": [
    {
     "name": "stdout",
     "output_type": "stream",
     "text": [
      "Hardcoded number rows!!!!!!!!!!!\n"
     ]
    }
   ],
   "source": [
    "#NumberRows = int(NumberRows)\n",
    "print(\"Hardcoded number rows!!!!!!!!!!!\")\n",
    "NumberRows = 10\n",
    "if NumberRows >= 1000:\n",
    "    NumberRowsStr = str(int(NumberRows/1000))+\"K\"\n",
    "else:\n",
    "    NumberRowsStr = str(NumberRows)"
   ]
  },
  {
   "cell_type": "markdown",
   "metadata": {},
   "source": [
    "     ==============================================<br>\n",
    "        Insert Section<br>\n",
    "     ==============================================<br>\n",
    "nitialize data reporting"
   ]
  },
  {
   "cell_type": "code",
   "execution_count": 16,
   "metadata": {},
   "outputs": [
    {
     "name": "stdout",
     "output_type": "stream",
     "text": [
      "Recording data to screen only\n"
     ]
    }
   ],
   "source": [
    "benchdata =drutils(\"Schema2_Insert_expt_\"+NumberRowsStr+\"_\",\"s\")"
   ]
  },
  {
   "cell_type": "code",
   "execution_count": 17,
   "metadata": {},
   "outputs": [],
   "source": [
    "Table.SetVerifyConstraints(True)\n",
    "Table.UseFKTables(True)"
   ]
  },
  {
   "cell_type": "markdown",
   "metadata": {},
   "source": [
    "***Build the tables***"
   ]
  },
  {
   "cell_type": "code",
   "execution_count": 18,
   "metadata": {
    "scrolled": true
   },
   "outputs": [
    {
     "name": "stdout",
     "output_type": "stream",
     "text": [
      "mechanics has no FK constraints to verify.\n",
      "mechanics has complete FK to PK references (or none exist in table)\n",
      "cars has no FK constraints to verify.\n",
      "cars has complete FK to PK references (or none exist in table)\n",
      "thisPK == thisFK refColName:  mech_num mech_num with #PKs found 1\n",
      "thisPK == thisFK refColName:  car_num car_num with #PKs found 1\n",
      "repairs has complete FK to PK references (or none exist in table)\n"
     ]
    },
    {
     "data": {
      "text/plain": [
       "True"
      ]
     },
     "execution_count": 18,
     "metadata": {},
     "output_type": "execute_result"
    }
   ],
   "source": [
    "BuildTables()"
   ]
  },
  {
   "cell_type": "markdown",
   "metadata": {},
   "source": [
    "***Insert priming data, collect Insert times***"
   ]
  },
  {
   "cell_type": "code",
   "execution_count": 19,
   "metadata": {},
   "outputs": [],
   "source": [
    "insertStartTime = time.time() #insertStartTime/EndTime only use to give an overall time for the insert loop\n",
    "insertAll_times = InsertData()\n",
    "insertEndTime = time.time()"
   ]
  },
  {
   "cell_type": "markdown",
   "metadata": {},
   "source": [
    "### Calculate Time Statistics (Checking constraints during Insert)"
   ]
  },
  {
   "cell_type": "code",
   "execution_count": 20,
   "metadata": {},
   "outputs": [
    {
     "name": "stdout",
     "output_type": "stream",
     "text": [
      "Verifying Constraints is ENABLED\n",
      "Statistics for Insert with 10 rows, Verify Constraints set to: True\n",
      "Verifying Constraints is ENABLED\n",
      "Statistics for:  RepairTable\n",
      "\tMEDIAN3.6325454711914062 ms\n",
      "\tMEAN  3.8095951080322266 ms\n",
      "\tSTDEV 0.3969095839095727 ms\n"
     ]
    }
   ],
   "source": [
    "withConstraintTimesAll = report_times(insertAll_times)"
   ]
  },
  {
   "cell_type": "markdown",
   "metadata": {},
   "source": [
    "### Remove Benchmark Tables"
   ]
  },
  {
   "cell_type": "code",
   "execution_count": 21,
   "metadata": {},
   "outputs": [
    {
     "name": "stdout",
     "output_type": "stream",
     "text": [
      "Removing rows in Table  mechanics\n",
      "Removing rows in Table  cars\n",
      "Removing rows in Table  repairs\n",
      "Removing rows in Table  mech_num_FKTable\n",
      "Removing rows in Table  car_num_FKTable\n",
      "Note:  50 records removed\n"
     ]
    }
   ],
   "source": [
    "Table.RemoveAllTables(client, True) #True to wait for confirmation"
   ]
  },
  {
   "cell_type": "markdown",
   "metadata": {},
   "source": [
    "### Rebuild Tables and re-insert data, after disabling Constraints"
   ]
  },
  {
   "cell_type": "code",
   "execution_count": 22,
   "metadata": {},
   "outputs": [],
   "source": [
    "Table.SetVerifyConstraints(False)\n",
    "Table.UseFKTables(False)"
   ]
  },
  {
   "cell_type": "code",
   "execution_count": 23,
   "metadata": {},
   "outputs": [
    {
     "name": "stdout",
     "output_type": "stream",
     "text": [
      "mechanics has complete FK to PK references (or none exist in table)\n",
      "cars has complete FK to PK references (or none exist in table)\n",
      "repairs has complete FK to PK references (or none exist in table)\n",
      "PKvals from Insert:  [0] for Table:  mechanics\n",
      "JSON string: {\"mech_num\": 0, \"mech_name\": \"someName\", \"mech_salary\": \"someSalary\", \"mech_specialty\": \"someSpecialty\"}\n",
      "PKvals from Insert:  [0] for Table:  cars\n",
      "JSON string: {\"car_num\": 0, \"car_model\": \"someCar\", \"car_year\": \"someYear\"}\n",
      "PKvals from Insert:  [1] for Table:  mechanics\n",
      "JSON string: {\"mech_num\": 1, \"mech_name\": \"someName\", \"mech_salary\": \"someSalary\", \"mech_specialty\": \"someSpecialty\"}\n",
      "PKvals from Insert:  [1] for Table:  cars\n",
      "JSON string: {\"car_num\": 1, \"car_model\": \"someCar\", \"car_year\": \"someYear\"}\n",
      "PKvals from Insert:  [2] for Table:  mechanics\n",
      "JSON string: {\"mech_num\": 2, \"mech_name\": \"someName\", \"mech_salary\": \"someSalary\", \"mech_specialty\": \"someSpecialty\"}\n",
      "PKvals from Insert:  [2] for Table:  cars\n",
      "JSON string: {\"car_num\": 2, \"car_model\": \"someCar\", \"car_year\": \"someYear\"}\n",
      "PKvals from Insert:  [3] for Table:  mechanics\n",
      "JSON string: {\"mech_num\": 3, \"mech_name\": \"someName\", \"mech_salary\": \"someSalary\", \"mech_specialty\": \"someSpecialty\"}\n",
      "PKvals from Insert:  [3] for Table:  cars\n",
      "JSON string: {\"car_num\": 3, \"car_model\": \"someCar\", \"car_year\": \"someYear\"}\n",
      "PKvals from Insert:  [4] for Table:  mechanics\n",
      "JSON string: {\"mech_num\": 4, \"mech_name\": \"someName\", \"mech_salary\": \"someSalary\", \"mech_specialty\": \"someSpecialty\"}\n",
      "PKvals from Insert:  [4] for Table:  cars\n",
      "JSON string: {\"car_num\": 4, \"car_model\": \"someCar\", \"car_year\": \"someYear\"}\n",
      "PKvals from Insert:  [5] for Table:  mechanics\n",
      "JSON string: {\"mech_num\": 5, \"mech_name\": \"someName\", \"mech_salary\": \"someSalary\", \"mech_specialty\": \"someSpecialty\"}\n",
      "PKvals from Insert:  [5] for Table:  cars\n",
      "JSON string: {\"car_num\": 5, \"car_model\": \"someCar\", \"car_year\": \"someYear\"}\n",
      "PKvals from Insert:  [6] for Table:  mechanics\n",
      "JSON string: {\"mech_num\": 6, \"mech_name\": \"someName\", \"mech_salary\": \"someSalary\", \"mech_specialty\": \"someSpecialty\"}\n",
      "PKvals from Insert:  [6] for Table:  cars\n",
      "JSON string: {\"car_num\": 6, \"car_model\": \"someCar\", \"car_year\": \"someYear\"}\n",
      "PKvals from Insert:  [7] for Table:  mechanics\n",
      "JSON string: {\"mech_num\": 7, \"mech_name\": \"someName\", \"mech_salary\": \"someSalary\", \"mech_specialty\": \"someSpecialty\"}\n",
      "PKvals from Insert:  [7] for Table:  cars\n",
      "JSON string: {\"car_num\": 7, \"car_model\": \"someCar\", \"car_year\": \"someYear\"}\n",
      "PKvals from Insert:  [8] for Table:  mechanics\n",
      "JSON string: {\"mech_num\": 8, \"mech_name\": \"someName\", \"mech_salary\": \"someSalary\", \"mech_specialty\": \"someSpecialty\"}\n",
      "PKvals from Insert:  [8] for Table:  cars\n",
      "JSON string: {\"car_num\": 8, \"car_model\": \"someCar\", \"car_year\": \"someYear\"}\n",
      "PKvals from Insert:  [9] for Table:  mechanics\n",
      "JSON string: {\"mech_num\": 9, \"mech_name\": \"someName\", \"mech_salary\": \"someSalary\", \"mech_specialty\": \"someSpecialty\"}\n",
      "PKvals from Insert:  [9] for Table:  cars\n",
      "JSON string: {\"car_num\": 9, \"car_model\": \"someCar\", \"car_year\": \"someYear\"}\n",
      "PKvals from Insert:  [0, 0, 'someRepairDate'] for Table:  repairs\n",
      "JSON string: {\"mech_num\": 0, \"car_num\": 0, \"repair_date\": \"someRepairDate\"}\n",
      "PKvals from Insert:  [1, 1, 'someRepairDate'] for Table:  repairs\n",
      "JSON string: {\"mech_num\": 1, \"car_num\": 1, \"repair_date\": \"someRepairDate\"}\n",
      "PKvals from Insert:  [2, 2, 'someRepairDate'] for Table:  repairs\n",
      "JSON string: {\"mech_num\": 2, \"car_num\": 2, \"repair_date\": \"someRepairDate\"}\n",
      "PKvals from Insert:  [3, 3, 'someRepairDate'] for Table:  repairs\n",
      "JSON string: {\"mech_num\": 3, \"car_num\": 3, \"repair_date\": \"someRepairDate\"}\n",
      "PKvals from Insert:  [4, 4, 'someRepairDate'] for Table:  repairs\n",
      "JSON string: {\"mech_num\": 4, \"car_num\": 4, \"repair_date\": \"someRepairDate\"}\n",
      "PKvals from Insert:  [5, 5, 'someRepairDate'] for Table:  repairs\n",
      "JSON string: {\"mech_num\": 5, \"car_num\": 5, \"repair_date\": \"someRepairDate\"}\n",
      "PKvals from Insert:  [6, 6, 'someRepairDate'] for Table:  repairs\n",
      "JSON string: {\"mech_num\": 6, \"car_num\": 6, \"repair_date\": \"someRepairDate\"}\n",
      "PKvals from Insert:  [7, 7, 'someRepairDate'] for Table:  repairs\n",
      "JSON string: {\"mech_num\": 7, \"car_num\": 7, \"repair_date\": \"someRepairDate\"}\n",
      "PKvals from Insert:  [8, 8, 'someRepairDate'] for Table:  repairs\n",
      "JSON string: {\"mech_num\": 8, \"car_num\": 8, \"repair_date\": \"someRepairDate\"}\n",
      "PKvals from Insert:  [9, 9, 'someRepairDate'] for Table:  repairs\n",
      "JSON string: {\"mech_num\": 9, \"car_num\": 9, \"repair_date\": \"someRepairDate\"}\n",
      "Verifying Constraints is DISABLED\n",
      "Statistics for Insert with 10 rows, Verify Constraints set to: False\n",
      "Verifying Constraints is DISABLED\n",
      "Statistics for:  RepairTable\n",
      "\tMEDIAN0.6372928619384766 ms\n",
      "\tMEAN  0.6346940994262695 ms\n",
      "\tSTDEV 0.020641673584784425 ms\n"
     ]
    }
   ],
   "source": [
    "BuildTables()\n",
    "insertAll_times = InsertData()\n",
    "noConstraintTimesAll = report_times(insertAll_times)"
   ]
  },
  {
   "cell_type": "markdown",
   "metadata": {},
   "source": [
    "### Calculate Time Statistics (No constraint verification during Insert)    Close the data object"
   ]
  },
  {
   "cell_type": "code",
   "execution_count": 24,
   "metadata": {},
   "outputs": [
    {
     "name": "stdout",
     "output_type": "stream",
     "text": [
      "Total Insert Time: 0.057700157165527344 seconds, 3 tables\n",
      "Statistics for:  RepairTable\n",
      "\n",
      "\n",
      "\tWith Constraints:\t\tWithout Constraints\t\tPercent Difference, 10 rows\n",
      "MEDIAN:\t3.6325454711914062 \t\t0.6372928619384766 ms\t\t469.9962588851478\n",
      "MEAN:\t3.8095951080322266 \t\t0.6346940994262695 ms\t\t499.815934788325\n",
      "STDEV:\t0.3969095839095727 \t\t0.020641673584784425 ms\t\t1822.8556360960297\n",
      "\n",
      "\n"
     ]
    }
   ],
   "source": [
    "benchdata.rcrd_data(\"Total Insert Time: {} seconds, 3 tables\".format(insertEndTime - insertStartTime))\n",
    "report_statistics(withConstraintTimesAll, noConstraintTimesAll)\n",
    "benchdata.close()\n",
    "del benchdata"
   ]
  },
  {
   "cell_type": "markdown",
   "metadata": {},
   "source": [
    "     ==============================================<br>\n",
    "        Update Section<br>\n",
    "     =============================================="
   ]
  },
  {
   "cell_type": "code",
   "execution_count": 25,
   "metadata": {},
   "outputs": [
    {
     "name": "stdout",
     "output_type": "stream",
     "text": [
      "Recording data to screen only\n"
     ]
    }
   ],
   "source": [
    "benchdata =drutils(\"Schema2_Update_expt_\"+NumberRowsStr+\"_\",\"s\")"
   ]
  },
  {
   "cell_type": "markdown",
   "metadata": {},
   "source": [
    "# We already have tables that do NOT use constraints or FK Tables ###<br>\n",
    "herefore, the first run of Update and Delete will be with ***No*** constraints"
   ]
  },
  {
   "cell_type": "code",
   "execution_count": 31,
   "metadata": {},
   "outputs": [
    {
     "name": "stdout",
     "output_type": "stream",
     "text": [
      "PKvals from Update:  [7, 7, 'someRepairDateX7'] for Table:  repairs\n",
      "JSON string: {\"mech_num\": 7, \"car_num\": 7, \"repair_date\": \"someRepairDateX7\"}\n",
      "PKvals from Update:  [3, 3, 'someRepairDateX3'] for Table:  repairs\n",
      "JSON string: {\"mech_num\": 3, \"car_num\": 3, \"repair_date\": \"someRepairDateX3\"}\n",
      "PKvals from Update:  [2, 2, 'someRepairDateX2'] for Table:  repairs\n",
      "JSON string: {\"mech_num\": 2, \"car_num\": 2, \"repair_date\": \"someRepairDateX2\"}\n",
      "PKvals from Update:  [8, 8, 'someRepairDateX8'] for Table:  repairs\n",
      "JSON string: {\"mech_num\": 8, \"car_num\": 8, \"repair_date\": \"someRepairDateX8\"}\n",
      "PKvals from Update:  [5, 5, 'someRepairDateX5'] for Table:  repairs\n",
      "JSON string: {\"mech_num\": 5, \"car_num\": 5, \"repair_date\": \"someRepairDateX5\"}\n"
     ]
    }
   ],
   "source": [
    "updateStartTime = time.time() #updateStartTime/EndTime only use to give an overall time for the update loop\n",
    "updateAll_times = UpdateData()\n",
    "updateEndTime = time.time()"
   ]
  },
  {
   "cell_type": "code",
   "execution_count": 32,
   "metadata": {},
   "outputs": [
    {
     "name": "stdout",
     "output_type": "stream",
     "text": [
      "Verifying Constraints is DISABLED\n",
      "Statistics for Insert with 10 rows, Verify Constraints set to: False\n",
      "Verifying Constraints is DISABLED\n",
      "Statistics for:  RepairTable\n",
      "\tMEDIAN1.5501976013183594 ms\n",
      "\tMEAN  1.83563232421875 ms\n",
      "\tSTDEV 0.5648518662484078 ms\n"
     ]
    }
   ],
   "source": [
    "noConstraintTimesAll = report_times(updateAll_times)"
   ]
  },
  {
   "cell_type": "markdown",
   "metadata": {},
   "source": [
    "**Remove and then Rebuild the Tables with constraints***"
   ]
  },
  {
   "cell_type": "code",
   "execution_count": 33,
   "metadata": {},
   "outputs": [
    {
     "name": "stdout",
     "output_type": "stream",
     "text": [
      "Removing rows in Table  mechanics\n",
      "Removing rows in Table  cars\n",
      "Removing rows in Table  repairs\n",
      "Removing rows in Table  mech_num_FKTable\n",
      "Removing rows in Table  car_num_FKTable\n",
      "Note:  30 records removed\n"
     ]
    }
   ],
   "source": [
    "Table.RemoveAllTables(client, True) #True to wait for confirmation"
   ]
  },
  {
   "cell_type": "code",
   "execution_count": 34,
   "metadata": {},
   "outputs": [],
   "source": [
    "Table.SetVerifyConstraints(True)\n",
    "Table.UseFKTables(True)"
   ]
  },
  {
   "cell_type": "code",
   "execution_count": 35,
   "metadata": {},
   "outputs": [
    {
     "name": "stdout",
     "output_type": "stream",
     "text": [
      "mechanics has no FK constraints to verify.\n",
      "mechanics has complete FK to PK references (or none exist in table)\n",
      "cars has no FK constraints to verify.\n",
      "cars has complete FK to PK references (or none exist in table)\n",
      "refTables in FK list: [<Private_Pkgs.Table.Table object at 0x7f4f0c125cc0>, <Private_Pkgs.Table.Table object at 0x7f4f0c125e80>]\n",
      "thisPK == thisFK refColName:  mech_num mech_num with #PKs found 1\n",
      "thisPK == thisFK refColName:  car_num car_num with #PKs found 1\n",
      "repairs has complete FK to PK references (or none exist in table)\n",
      "PKvals from Insert:  [0] for Table:  mechanics\n",
      "JSON string: {\"mech_num\": 0, \"mech_name\": \"someName\", \"mech_salary\": \"someSalary\", \"mech_specialty\": \"someSpecialty\"}\n",
      "PKvals from Insert:  [0] for Table:  cars\n",
      "JSON string: {\"car_num\": 0, \"car_model\": \"someCar\", \"car_year\": \"someYear\"}\n",
      "PKvals from Insert:  [1] for Table:  mechanics\n",
      "JSON string: {\"mech_num\": 1, \"mech_name\": \"someName\", \"mech_salary\": \"someSalary\", \"mech_specialty\": \"someSpecialty\"}\n",
      "PKvals from Insert:  [1] for Table:  cars\n",
      "JSON string: {\"car_num\": 1, \"car_model\": \"someCar\", \"car_year\": \"someYear\"}\n",
      "PKvals from Insert:  [2] for Table:  mechanics\n",
      "JSON string: {\"mech_num\": 2, \"mech_name\": \"someName\", \"mech_salary\": \"someSalary\", \"mech_specialty\": \"someSpecialty\"}\n",
      "PKvals from Insert:  [2] for Table:  cars\n",
      "JSON string: {\"car_num\": 2, \"car_model\": \"someCar\", \"car_year\": \"someYear\"}\n",
      "PKvals from Insert:  [3] for Table:  mechanics\n",
      "JSON string: {\"mech_num\": 3, \"mech_name\": \"someName\", \"mech_salary\": \"someSalary\", \"mech_specialty\": \"someSpecialty\"}\n",
      "PKvals from Insert:  [3] for Table:  cars\n",
      "JSON string: {\"car_num\": 3, \"car_model\": \"someCar\", \"car_year\": \"someYear\"}\n",
      "PKvals from Insert:  [4] for Table:  mechanics\n",
      "JSON string: {\"mech_num\": 4, \"mech_name\": \"someName\", \"mech_salary\": \"someSalary\", \"mech_specialty\": \"someSpecialty\"}\n",
      "PKvals from Insert:  [4] for Table:  cars\n",
      "JSON string: {\"car_num\": 4, \"car_model\": \"someCar\", \"car_year\": \"someYear\"}\n",
      "PKvals from Insert:  [5] for Table:  mechanics\n",
      "JSON string: {\"mech_num\": 5, \"mech_name\": \"someName\", \"mech_salary\": \"someSalary\", \"mech_specialty\": \"someSpecialty\"}\n",
      "PKvals from Insert:  [5] for Table:  cars\n",
      "JSON string: {\"car_num\": 5, \"car_model\": \"someCar\", \"car_year\": \"someYear\"}\n",
      "PKvals from Insert:  [6] for Table:  mechanics\n",
      "JSON string: {\"mech_num\": 6, \"mech_name\": \"someName\", \"mech_salary\": \"someSalary\", \"mech_specialty\": \"someSpecialty\"}\n",
      "PKvals from Insert:  [6] for Table:  cars\n",
      "JSON string: {\"car_num\": 6, \"car_model\": \"someCar\", \"car_year\": \"someYear\"}\n",
      "PKvals from Insert:  [7] for Table:  mechanics\n",
      "JSON string: {\"mech_num\": 7, \"mech_name\": \"someName\", \"mech_salary\": \"someSalary\", \"mech_specialty\": \"someSpecialty\"}\n",
      "PKvals from Insert:  [7] for Table:  cars\n",
      "JSON string: {\"car_num\": 7, \"car_model\": \"someCar\", \"car_year\": \"someYear\"}\n",
      "PKvals from Insert:  [8] for Table:  mechanics\n",
      "JSON string: {\"mech_num\": 8, \"mech_name\": \"someName\", \"mech_salary\": \"someSalary\", \"mech_specialty\": \"someSpecialty\"}\n",
      "PKvals from Insert:  [8] for Table:  cars\n",
      "JSON string: {\"car_num\": 8, \"car_model\": \"someCar\", \"car_year\": \"someYear\"}\n",
      "PKvals from Insert:  [9] for Table:  mechanics\n",
      "JSON string: {\"mech_num\": 9, \"mech_name\": \"someName\", \"mech_salary\": \"someSalary\", \"mech_specialty\": \"someSpecialty\"}\n",
      "PKvals from Insert:  [9] for Table:  cars\n",
      "JSON string: {\"car_num\": 9, \"car_model\": \"someCar\", \"car_year\": \"someYear\"}\n",
      "PKvals from Insert:  [0, 0, 'someRepairDate'] for Table:  repairs\n",
      "FKvals from Insert:  [0, 0] for Table:  repairs\n",
      "VerifyFK insertDict {'mech_num': 0, 'car_num': 0}\n",
      "VerifyFKvalExists for refTable, PK, FK:  mechanics mech_num {'colName': 'mech_num', 'refTable': <Private_Pkgs.Table.Table object at 0x7f4f0c125cc0>, 'refColName': 'mech_num'}\n",
      "VerifyFKvalExists, PKValList:  [0]\n",
      "VerifyFKvalExists for refTable, PK, FK:  mechanics mech_num {'colName': 'car_num', 'refTable': <Private_Pkgs.Table.Table object at 0x7f4f0c125e80>, 'refColName': 'car_num'}\n",
      "[0]  exists in the following row (VerifyUniquePKval):\n",
      "{'mech_num': 0, 'mech_name': 'someName', 'mech_salary': 'someSalary', 'mech_specialty': 'someSpecialty'}\n",
      "VerifyFKvalExists for refTable, PK, FK:  cars car_num {'colName': 'mech_num', 'refTable': <Private_Pkgs.Table.Table object at 0x7f4f0c125cc0>, 'refColName': 'mech_num'}\n",
      "VerifyFKvalExists for refTable, PK, FK:  cars car_num {'colName': 'car_num', 'refTable': <Private_Pkgs.Table.Table object at 0x7f4f0c125e80>, 'refColName': 'car_num'}\n",
      "VerifyFKvalExists, PKValList:  [0]\n",
      "[0]  exists in the following row (VerifyUniquePKval):\n",
      "{'car_num': 0, 'car_model': 'someCar', 'car_year': 'someYear'}\n",
      "JSON string: {\"mech_num\": 0, \"car_num\": 0, \"repair_date\": \"someRepairDate\"}\n",
      "FKval from Insert:  [0] for Table:  repairs\n",
      "FKTable is:  mech_num_FKTable\n",
      "**** The parent_keyValue is bytearray(b'*\\x9d\\xf2&P\\x12XCn&\\xcc\\x81Tu(\\x10}(\\xd6\\xa9')\n",
      "FKval from Insert:  [0] for Table:  repairs\n",
      "FKTable is:  car_num_FKTable\n",
      "**** The parent_keyValue is bytearray(b'*\\x9d\\xf2&P\\x12XCn&\\xcc\\x81Tu(\\x10}(\\xd6\\xa9')\n",
      "PKvals from Insert:  [1, 1, 'someRepairDate'] for Table:  repairs\n",
      "FKvals from Insert:  [1, 1] for Table:  repairs\n",
      "VerifyFK insertDict {'mech_num': 1, 'car_num': 1}\n",
      "VerifyFKvalExists for refTable, PK, FK:  mechanics mech_num {'colName': 'mech_num', 'refTable': <Private_Pkgs.Table.Table object at 0x7f4f0c125cc0>, 'refColName': 'mech_num'}\n",
      "VerifyFKvalExists, PKValList:  [1]\n",
      "VerifyFKvalExists for refTable, PK, FK:  mechanics mech_num {'colName': 'car_num', 'refTable': <Private_Pkgs.Table.Table object at 0x7f4f0c125e80>, 'refColName': 'car_num'}\n",
      "[1]  exists in the following row (VerifyUniquePKval):\n",
      "{'mech_num': 1, 'mech_name': 'someName', 'mech_salary': 'someSalary', 'mech_specialty': 'someSpecialty'}\n",
      "VerifyFKvalExists for refTable, PK, FK:  cars car_num {'colName': 'mech_num', 'refTable': <Private_Pkgs.Table.Table object at 0x7f4f0c125cc0>, 'refColName': 'mech_num'}\n",
      "VerifyFKvalExists for refTable, PK, FK:  cars car_num {'colName': 'car_num', 'refTable': <Private_Pkgs.Table.Table object at 0x7f4f0c125e80>, 'refColName': 'car_num'}\n",
      "VerifyFKvalExists, PKValList:  [1]\n",
      "[1]  exists in the following row (VerifyUniquePKval):\n",
      "{'car_num': 1, 'car_model': 'someCar', 'car_year': 'someYear'}\n",
      "JSON string: {\"mech_num\": 1, \"car_num\": 1, \"repair_date\": \"someRepairDate\"}\n",
      "FKval from Insert:  [1] for Table:  repairs\n",
      "FKTable is:  mech_num_FKTable\n",
      "**** The parent_keyValue is bytearray(b'\\xf1\\xfe\\xe3\\xa5\\x997\\xae\\\\O\\xa9w$Z)\\x07C\\xb9e<0')\n",
      "FKval from Insert:  [1] for Table:  repairs\n",
      "FKTable is:  car_num_FKTable\n",
      "**** The parent_keyValue is bytearray(b'\\xf1\\xfe\\xe3\\xa5\\x997\\xae\\\\O\\xa9w$Z)\\x07C\\xb9e<0')\n",
      "PKvals from Insert:  [2, 2, 'someRepairDate'] for Table:  repairs\n",
      "FKvals from Insert:  [2, 2] for Table:  repairs\n",
      "VerifyFK insertDict {'mech_num': 2, 'car_num': 2}\n",
      "VerifyFKvalExists for refTable, PK, FK:  mechanics mech_num {'colName': 'mech_num', 'refTable': <Private_Pkgs.Table.Table object at 0x7f4f0c125cc0>, 'refColName': 'mech_num'}\n",
      "VerifyFKvalExists, PKValList:  [2]\n",
      "VerifyFKvalExists for refTable, PK, FK:  mechanics mech_num {'colName': 'car_num', 'refTable': <Private_Pkgs.Table.Table object at 0x7f4f0c125e80>, 'refColName': 'car_num'}\n",
      "[2]  exists in the following row (VerifyUniquePKval):\n",
      "{'mech_num': 2, 'mech_name': 'someName', 'mech_salary': 'someSalary', 'mech_specialty': 'someSpecialty'}\n",
      "VerifyFKvalExists for refTable, PK, FK:  cars car_num {'colName': 'mech_num', 'refTable': <Private_Pkgs.Table.Table object at 0x7f4f0c125cc0>, 'refColName': 'mech_num'}\n",
      "VerifyFKvalExists for refTable, PK, FK:  cars car_num {'colName': 'car_num', 'refTable': <Private_Pkgs.Table.Table object at 0x7f4f0c125e80>, 'refColName': 'car_num'}\n",
      "VerifyFKvalExists, PKValList:  [2]\n",
      "[2]  exists in the following row (VerifyUniquePKval):\n",
      "{'car_num': 2, 'car_model': 'someCar', 'car_year': 'someYear'}\n",
      "JSON string: {\"mech_num\": 2, \"car_num\": 2, \"repair_date\": \"someRepairDate\"}\n",
      "FKval from Insert:  [2] for Table:  repairs\n",
      "FKTable is:  mech_num_FKTable\n",
      "**** The parent_keyValue is bytearray(b'`\\xc8BY\\xc7p\\xa7E;\\xde_KA\\x80\\xb9\\x94$\\x8e\\xc4(')\n",
      "FKval from Insert:  [2] for Table:  repairs\n",
      "FKTable is:  car_num_FKTable\n",
      "**** The parent_keyValue is bytearray(b'`\\xc8BY\\xc7p\\xa7E;\\xde_KA\\x80\\xb9\\x94$\\x8e\\xc4(')\n",
      "PKvals from Insert:  [3, 3, 'someRepairDate'] for Table:  repairs\n",
      "FKvals from Insert:  [3, 3] for Table:  repairs\n",
      "VerifyFK insertDict {'mech_num': 3, 'car_num': 3}\n",
      "VerifyFKvalExists for refTable, PK, FK:  mechanics mech_num {'colName': 'mech_num', 'refTable': <Private_Pkgs.Table.Table object at 0x7f4f0c125cc0>, 'refColName': 'mech_num'}\n",
      "VerifyFKvalExists, PKValList:  [3]\n",
      "VerifyFKvalExists for refTable, PK, FK:  mechanics mech_num {'colName': 'car_num', 'refTable': <Private_Pkgs.Table.Table object at 0x7f4f0c125e80>, 'refColName': 'car_num'}\n",
      "[3]  exists in the following row (VerifyUniquePKval):\n",
      "{'mech_num': 3, 'mech_name': 'someName', 'mech_salary': 'someSalary', 'mech_specialty': 'someSpecialty'}\n",
      "VerifyFKvalExists for refTable, PK, FK:  cars car_num {'colName': 'mech_num', 'refTable': <Private_Pkgs.Table.Table object at 0x7f4f0c125cc0>, 'refColName': 'mech_num'}\n",
      "VerifyFKvalExists for refTable, PK, FK:  cars car_num {'colName': 'car_num', 'refTable': <Private_Pkgs.Table.Table object at 0x7f4f0c125e80>, 'refColName': 'car_num'}\n",
      "VerifyFKvalExists, PKValList:  [3]\n",
      "[3]  exists in the following row (VerifyUniquePKval):\n",
      "{'car_num': 3, 'car_model': 'someCar', 'car_year': 'someYear'}\n",
      "JSON string: {\"mech_num\": 3, \"car_num\": 3, \"repair_date\": \"someRepairDate\"}\n",
      "FKval from Insert:  [3] for Table:  repairs\n",
      "FKTable is:  mech_num_FKTable\n",
      "**** The parent_keyValue is bytearray(b'\\x89\\x06I\\x97l\\xc2[\\xc2\\x075\\\\\\x9a\\x0e0\\x8c-\\\\b\\xf8~')\n",
      "FKval from Insert:  [3] for Table:  repairs\n",
      "FKTable is:  car_num_FKTable\n",
      "**** The parent_keyValue is bytearray(b'\\x89\\x06I\\x97l\\xc2[\\xc2\\x075\\\\\\x9a\\x0e0\\x8c-\\\\b\\xf8~')\n",
      "PKvals from Insert:  [4, 4, 'someRepairDate'] for Table:  repairs\n",
      "FKvals from Insert:  [4, 4] for Table:  repairs\n",
      "VerifyFK insertDict {'mech_num': 4, 'car_num': 4}\n",
      "VerifyFKvalExists for refTable, PK, FK:  mechanics mech_num {'colName': 'mech_num', 'refTable': <Private_Pkgs.Table.Table object at 0x7f4f0c125cc0>, 'refColName': 'mech_num'}\n",
      "VerifyFKvalExists, PKValList:  [4]\n",
      "VerifyFKvalExists for refTable, PK, FK:  mechanics mech_num {'colName': 'car_num', 'refTable': <Private_Pkgs.Table.Table object at 0x7f4f0c125e80>, 'refColName': 'car_num'}\n",
      "[4]  exists in the following row (VerifyUniquePKval):\n",
      "{'mech_num': 4, 'mech_name': 'someName', 'mech_salary': 'someSalary', 'mech_specialty': 'someSpecialty'}\n",
      "VerifyFKvalExists for refTable, PK, FK:  cars car_num {'colName': 'mech_num', 'refTable': <Private_Pkgs.Table.Table object at 0x7f4f0c125cc0>, 'refColName': 'mech_num'}\n",
      "VerifyFKvalExists for refTable, PK, FK:  cars car_num {'colName': 'car_num', 'refTable': <Private_Pkgs.Table.Table object at 0x7f4f0c125e80>, 'refColName': 'car_num'}\n",
      "VerifyFKvalExists, PKValList:  [4]\n",
      "[4]  exists in the following row (VerifyUniquePKval):\n",
      "{'car_num': 4, 'car_model': 'someCar', 'car_year': 'someYear'}\n",
      "JSON string: {\"mech_num\": 4, \"car_num\": 4, \"repair_date\": \"someRepairDate\"}\n",
      "FKval from Insert:  [4] for Table:  repairs\n",
      "FKTable is:  mech_num_FKTable\n",
      "**** The parent_keyValue is bytearray(b'\\x93\\x9c!6\\t\\xc0Y\\xc1\\x87+H\\xb2iR\\x8d\\x06\\xfa\\x9b\\xbc\\xce')\n",
      "FKval from Insert:  [4] for Table:  repairs\n",
      "FKTable is:  car_num_FKTable\n",
      "**** The parent_keyValue is bytearray(b'\\x93\\x9c!6\\t\\xc0Y\\xc1\\x87+H\\xb2iR\\x8d\\x06\\xfa\\x9b\\xbc\\xce')\n",
      "PKvals from Insert:  [5, 5, 'someRepairDate'] for Table:  repairs\n",
      "FKvals from Insert:  [5, 5] for Table:  repairs\n",
      "VerifyFK insertDict {'mech_num': 5, 'car_num': 5}\n",
      "VerifyFKvalExists for refTable, PK, FK:  mechanics mech_num {'colName': 'mech_num', 'refTable': <Private_Pkgs.Table.Table object at 0x7f4f0c125cc0>, 'refColName': 'mech_num'}\n",
      "VerifyFKvalExists, PKValList:  [5]\n",
      "VerifyFKvalExists for refTable, PK, FK:  mechanics mech_num {'colName': 'car_num', 'refTable': <Private_Pkgs.Table.Table object at 0x7f4f0c125e80>, 'refColName': 'car_num'}\n",
      "[5]  exists in the following row (VerifyUniquePKval):\n",
      "{'mech_num': 5, 'mech_name': 'someName', 'mech_salary': 'someSalary', 'mech_specialty': 'someSpecialty'}\n",
      "VerifyFKvalExists for refTable, PK, FK:  cars car_num {'colName': 'mech_num', 'refTable': <Private_Pkgs.Table.Table object at 0x7f4f0c125cc0>, 'refColName': 'mech_num'}\n",
      "VerifyFKvalExists for refTable, PK, FK:  cars car_num {'colName': 'car_num', 'refTable': <Private_Pkgs.Table.Table object at 0x7f4f0c125e80>, 'refColName': 'car_num'}\n",
      "VerifyFKvalExists, PKValList:  [5]\n",
      "[5]  exists in the following row (VerifyUniquePKval):\n",
      "{'car_num': 5, 'car_model': 'someCar', 'car_year': 'someYear'}\n",
      "JSON string: {\"mech_num\": 5, \"car_num\": 5, \"repair_date\": \"someRepairDate\"}\n",
      "FKval from Insert:  [5] for Table:  repairs\n",
      "FKTable is:  mech_num_FKTable\n",
      "**** The parent_keyValue is bytearray(b'\\xf9*t\\x90A\\x99\\x1af\\xf8*\\x94\\xe04\\xa2C\\x15C\\xee2\\xb8')\n",
      "FKval from Insert:  [5] for Table:  repairs\n",
      "FKTable is:  car_num_FKTable\n",
      "**** The parent_keyValue is bytearray(b'\\xf9*t\\x90A\\x99\\x1af\\xf8*\\x94\\xe04\\xa2C\\x15C\\xee2\\xb8')\n",
      "PKvals from Insert:  [6, 6, 'someRepairDate'] for Table:  repairs\n",
      "FKvals from Insert:  [6, 6] for Table:  repairs\n",
      "VerifyFK insertDict {'mech_num': 6, 'car_num': 6}\n",
      "VerifyFKvalExists for refTable, PK, FK:  mechanics mech_num {'colName': 'mech_num', 'refTable': <Private_Pkgs.Table.Table object at 0x7f4f0c125cc0>, 'refColName': 'mech_num'}\n",
      "VerifyFKvalExists, PKValList:  [6]\n",
      "VerifyFKvalExists for refTable, PK, FK:  mechanics mech_num {'colName': 'car_num', 'refTable': <Private_Pkgs.Table.Table object at 0x7f4f0c125e80>, 'refColName': 'car_num'}\n",
      "[6]  exists in the following row (VerifyUniquePKval):\n",
      "{'mech_num': 6, 'mech_name': 'someName', 'mech_salary': 'someSalary', 'mech_specialty': 'someSpecialty'}\n",
      "VerifyFKvalExists for refTable, PK, FK:  cars car_num {'colName': 'mech_num', 'refTable': <Private_Pkgs.Table.Table object at 0x7f4f0c125cc0>, 'refColName': 'mech_num'}\n",
      "VerifyFKvalExists for refTable, PK, FK:  cars car_num {'colName': 'car_num', 'refTable': <Private_Pkgs.Table.Table object at 0x7f4f0c125e80>, 'refColName': 'car_num'}\n",
      "VerifyFKvalExists, PKValList:  [6]\n",
      "[6]  exists in the following row (VerifyUniquePKval):\n",
      "{'car_num': 6, 'car_model': 'someCar', 'car_year': 'someYear'}\n",
      "JSON string: {\"mech_num\": 6, \"car_num\": 6, \"repair_date\": \"someRepairDate\"}\n",
      "FKval from Insert:  [6] for Table:  repairs\n",
      "FKTable is:  mech_num_FKTable\n",
      "**** The parent_keyValue is bytearray(b'\\x82\\xb8\\x1e\\xd4\\x91\\x89X)\\xa4\\xf5y0\\xa1#\\xdb\\x9el\\xf3\\xbc\\x0c')\n",
      "FKval from Insert:  [6] for Table:  repairs\n",
      "FKTable is:  car_num_FKTable\n",
      "**** The parent_keyValue is bytearray(b'\\x82\\xb8\\x1e\\xd4\\x91\\x89X)\\xa4\\xf5y0\\xa1#\\xdb\\x9el\\xf3\\xbc\\x0c')\n",
      "PKvals from Insert:  [7, 7, 'someRepairDate'] for Table:  repairs\n",
      "FKvals from Insert:  [7, 7] for Table:  repairs\n",
      "VerifyFK insertDict {'mech_num': 7, 'car_num': 7}\n",
      "VerifyFKvalExists for refTable, PK, FK:  mechanics mech_num {'colName': 'mech_num', 'refTable': <Private_Pkgs.Table.Table object at 0x7f4f0c125cc0>, 'refColName': 'mech_num'}\n",
      "VerifyFKvalExists, PKValList:  [7]\n",
      "VerifyFKvalExists for refTable, PK, FK:  mechanics mech_num {'colName': 'car_num', 'refTable': <Private_Pkgs.Table.Table object at 0x7f4f0c125e80>, 'refColName': 'car_num'}\n",
      "[7]  exists in the following row (VerifyUniquePKval):\n",
      "{'mech_num': 7, 'mech_name': 'someName', 'mech_salary': 'someSalary', 'mech_specialty': 'someSpecialty'}\n",
      "VerifyFKvalExists for refTable, PK, FK:  cars car_num {'colName': 'mech_num', 'refTable': <Private_Pkgs.Table.Table object at 0x7f4f0c125cc0>, 'refColName': 'mech_num'}\n",
      "VerifyFKvalExists for refTable, PK, FK:  cars car_num {'colName': 'car_num', 'refTable': <Private_Pkgs.Table.Table object at 0x7f4f0c125e80>, 'refColName': 'car_num'}\n",
      "VerifyFKvalExists, PKValList:  [7]\n",
      "[7]  exists in the following row (VerifyUniquePKval):\n",
      "{'car_num': 7, 'car_model': 'someCar', 'car_year': 'someYear'}\n",
      "JSON string: {\"mech_num\": 7, \"car_num\": 7, \"repair_date\": \"someRepairDate\"}\n",
      "FKval from Insert:  [7] for Table:  repairs\n",
      "FKTable is:  mech_num_FKTable\n",
      "**** The parent_keyValue is bytearray(b'\\x12\\x91\\xd5\\x0bZ@\\xb1\\xc6Yz8\\xf1\\x93:2\\xdc\\xe7]\\xefU')\n",
      "FKval from Insert:  [7] for Table:  repairs\n",
      "FKTable is:  car_num_FKTable\n",
      "**** The parent_keyValue is bytearray(b'\\x12\\x91\\xd5\\x0bZ@\\xb1\\xc6Yz8\\xf1\\x93:2\\xdc\\xe7]\\xefU')\n",
      "PKvals from Insert:  [8, 8, 'someRepairDate'] for Table:  repairs\n",
      "FKvals from Insert:  [8, 8] for Table:  repairs\n",
      "VerifyFK insertDict {'mech_num': 8, 'car_num': 8}\n",
      "VerifyFKvalExists for refTable, PK, FK:  mechanics mech_num {'colName': 'mech_num', 'refTable': <Private_Pkgs.Table.Table object at 0x7f4f0c125cc0>, 'refColName': 'mech_num'}\n",
      "VerifyFKvalExists, PKValList:  [8]\n",
      "VerifyFKvalExists for refTable, PK, FK:  mechanics mech_num {'colName': 'car_num', 'refTable': <Private_Pkgs.Table.Table object at 0x7f4f0c125e80>, 'refColName': 'car_num'}\n",
      "[8]  exists in the following row (VerifyUniquePKval):\n",
      "{'mech_num': 8, 'mech_name': 'someName', 'mech_salary': 'someSalary', 'mech_specialty': 'someSpecialty'}\n",
      "VerifyFKvalExists for refTable, PK, FK:  cars car_num {'colName': 'mech_num', 'refTable': <Private_Pkgs.Table.Table object at 0x7f4f0c125cc0>, 'refColName': 'mech_num'}\n",
      "VerifyFKvalExists for refTable, PK, FK:  cars car_num {'colName': 'car_num', 'refTable': <Private_Pkgs.Table.Table object at 0x7f4f0c125e80>, 'refColName': 'car_num'}\n",
      "VerifyFKvalExists, PKValList:  [8]\n",
      "[8]  exists in the following row (VerifyUniquePKval):\n",
      "{'car_num': 8, 'car_model': 'someCar', 'car_year': 'someYear'}\n",
      "JSON string: {\"mech_num\": 8, \"car_num\": 8, \"repair_date\": \"someRepairDate\"}\n",
      "FKval from Insert:  [8] for Table:  repairs\n",
      "FKTable is:  mech_num_FKTable\n",
      "**** The parent_keyValue is bytearray(b'\\xc3\\x98\\x82/DL\\x83\\xc3\\xe5\\x19\\r#\\x10\\xec\\xb3A\\xb9\\x1bSv')\n",
      "FKval from Insert:  [8] for Table:  repairs\n",
      "FKTable is:  car_num_FKTable\n",
      "**** The parent_keyValue is bytearray(b'\\xc3\\x98\\x82/DL\\x83\\xc3\\xe5\\x19\\r#\\x10\\xec\\xb3A\\xb9\\x1bSv')\n",
      "PKvals from Insert:  [9, 9, 'someRepairDate'] for Table:  repairs\n",
      "FKvals from Insert:  [9, 9] for Table:  repairs\n",
      "VerifyFK insertDict {'mech_num': 9, 'car_num': 9}\n",
      "VerifyFKvalExists for refTable, PK, FK:  mechanics mech_num {'colName': 'mech_num', 'refTable': <Private_Pkgs.Table.Table object at 0x7f4f0c125cc0>, 'refColName': 'mech_num'}\n",
      "VerifyFKvalExists, PKValList:  [9]\n",
      "VerifyFKvalExists for refTable, PK, FK:  mechanics mech_num {'colName': 'car_num', 'refTable': <Private_Pkgs.Table.Table object at 0x7f4f0c125e80>, 'refColName': 'car_num'}\n",
      "[9]  exists in the following row (VerifyUniquePKval):\n",
      "{'mech_num': 9, 'mech_name': 'someName', 'mech_salary': 'someSalary', 'mech_specialty': 'someSpecialty'}\n",
      "VerifyFKvalExists for refTable, PK, FK:  cars car_num {'colName': 'mech_num', 'refTable': <Private_Pkgs.Table.Table object at 0x7f4f0c125cc0>, 'refColName': 'mech_num'}\n",
      "VerifyFKvalExists for refTable, PK, FK:  cars car_num {'colName': 'car_num', 'refTable': <Private_Pkgs.Table.Table object at 0x7f4f0c125e80>, 'refColName': 'car_num'}\n",
      "VerifyFKvalExists, PKValList:  [9]\n",
      "[9]  exists in the following row (VerifyUniquePKval):\n",
      "{'car_num': 9, 'car_model': 'someCar', 'car_year': 'someYear'}\n",
      "JSON string: {\"mech_num\": 9, \"car_num\": 9, \"repair_date\": \"someRepairDate\"}\n",
      "FKval from Insert:  [9] for Table:  repairs\n",
      "FKTable is:  mech_num_FKTable\n",
      "**** The parent_keyValue is bytearray(b\"5\\xe6\\x8dZg\\x01\\xba\\'\\n\\xbf\\xff<\\x8e\\x93\\x8b\\xb5k\\xd0\\x82\\x08\")\n",
      "FKval from Insert:  [9] for Table:  repairs\n",
      "FKTable is:  car_num_FKTable\n",
      "**** The parent_keyValue is bytearray(b\"5\\xe6\\x8dZg\\x01\\xba\\'\\n\\xbf\\xff<\\x8e\\x93\\x8b\\xb5k\\xd0\\x82\\x08\")\n"
     ]
    },
    {
     "data": {
      "text/plain": [
       "{'RepairTable': [3.715038299560547,\n",
       "  5.064725875854492,\n",
       "  3.9565563201904297,\n",
       "  3.7240982055664062,\n",
       "  3.875255584716797,\n",
       "  3.612995147705078,\n",
       "  3.5767555236816406,\n",
       "  3.538370132446289,\n",
       "  3.6797523498535156,\n",
       "  3.7012100219726562]}"
      ]
     },
     "execution_count": 35,
     "metadata": {},
     "output_type": "execute_result"
    }
   ],
   "source": [
    "BuildTables()\n",
    "InsertData()"
   ]
  },
  {
   "cell_type": "code",
   "execution_count": 36,
   "metadata": {},
   "outputs": [
    {
     "name": "stdout",
     "output_type": "stream",
     "text": [
      "PKvals from Update:  [7, 7, 'someRepairDateX7'] for Table:  repairs\n",
      "Update failed! PK value doesn't currently exist in Table:  repairs\n",
      "PKvals from Update:  [3, 3, 'someRepairDateX3'] for Table:  repairs\n",
      "Update failed! PK value doesn't currently exist in Table:  repairs\n",
      "PKvals from Update:  [2, 2, 'someRepairDateX2'] for Table:  repairs\n",
      "Update failed! PK value doesn't currently exist in Table:  repairs\n",
      "PKvals from Update:  [8, 8, 'someRepairDateX8'] for Table:  repairs\n",
      "Update failed! PK value doesn't currently exist in Table:  repairs\n",
      "PKvals from Update:  [5, 5, 'someRepairDateX5'] for Table:  repairs\n",
      "Update failed! PK value doesn't currently exist in Table:  repairs\n"
     ]
    }
   ],
   "source": [
    "updateStartTime = time.time() #updateStartTime/EndTime only use to give an overall time for the update loop\n",
    "updateAll_times = UpdateData()\n",
    "updateEndTime = time.time()"
   ]
  },
  {
   "cell_type": "code",
   "execution_count": null,
   "metadata": {},
   "outputs": [],
   "source": [
    "withConstraintTimesAll = report_times(updateAll_times)"
   ]
  },
  {
   "cell_type": "code",
   "execution_count": null,
   "metadata": {},
   "outputs": [],
   "source": [
    "benchdata.rcrd_data(\"Total Update Time: {} seconds, 2 tables\".format(updateEndTime - updateStartTime))\n",
    "report_statistics(withConstraintTimesAll, noConstraintTimesAll)"
   ]
  },
  {
   "cell_type": "code",
   "execution_count": 44,
   "metadata": {},
   "outputs": [],
   "source": [
    "benchdata.close()\n",
    "del benchdata"
   ]
  },
  {
   "cell_type": "markdown",
   "metadata": {},
   "source": [
    "emove all tables and rebuild them for the delete."
   ]
  },
  {
   "cell_type": "code",
   "execution_count": 45,
   "metadata": {},
   "outputs": [
    {
     "name": "stdout",
     "output_type": "stream",
     "text": [
      "Removing rows in Table  mechanics\n",
      "Removing rows in Table  cars\n",
      "Removing rows in Table  repairs\n",
      "Removing rows in Table  mech_num_FKTable\n",
      "Removing rows in Table  car_num_FKTable\n",
      "Note:  25 records removed\n"
     ]
    }
   ],
   "source": [
    "Table.RemoveAllTables(client, True) #True to wait for confirmation"
   ]
  },
  {
   "cell_type": "markdown",
   "metadata": {},
   "source": [
    "     ==============================================<br>\n",
    "        Delete Section<br>\n",
    "     =============================================="
   ]
  },
  {
   "cell_type": "code",
   "execution_count": 46,
   "metadata": {},
   "outputs": [
    {
     "name": "stdout",
     "output_type": "stream",
     "text": [
      "Recording data to screen only\n"
     ]
    }
   ],
   "source": [
    "benchdata =drutils(\"Schema2_Delete_expt_\"+NumberRowsStr+\"_\",\"s\")"
   ]
  },
  {
   "cell_type": "code",
   "execution_count": 47,
   "metadata": {},
   "outputs": [],
   "source": [
    "Table.SetVerifyConstraints(True)\n",
    "Table.UseFKTables(True)"
   ]
  },
  {
   "cell_type": "code",
   "execution_count": 48,
   "metadata": {},
   "outputs": [
    {
     "name": "stdout",
     "output_type": "stream",
     "text": [
      "mechanics has no FK constraints to verify.\n",
      "mechanics has complete FK to PK references (or none exist in table)\n",
      "cars has no FK constraints to verify.\n",
      "cars has complete FK to PK references (or none exist in table)\n",
      "refTables in FK list: [<Private_Pkgs.Table.Table object at 0x7f4f0c0ae828>, <Private_Pkgs.Table.Table object at 0x7f4f0c0ae978>]\n",
      "thisPK == thisFK refColName:  mech_num mech_num with #PKs found 1\n",
      "thisPK == thisFK refColName:  car_num car_num with #PKs found 1\n",
      "repairs has complete FK to PK references (or none exist in table)\n",
      "PKvals from Insert:  [0] for Table:  mechanics\n",
      "JSON string: {\"mech_num\": 0, \"mech_name\": \"someName\", \"mech_salary\": \"someSalary\", \"mech_specialty\": \"someSpecialty\"}\n",
      "PKvals from Insert:  [0] for Table:  cars\n",
      "JSON string: {\"car_num\": 0, \"car_model\": \"someCar\", \"car_year\": \"someYear\"}\n",
      "PKvals from Insert:  [1] for Table:  mechanics\n",
      "JSON string: {\"mech_num\": 1, \"mech_name\": \"someName\", \"mech_salary\": \"someSalary\", \"mech_specialty\": \"someSpecialty\"}\n",
      "PKvals from Insert:  [1] for Table:  cars\n",
      "JSON string: {\"car_num\": 1, \"car_model\": \"someCar\", \"car_year\": \"someYear\"}\n",
      "PKvals from Insert:  [2] for Table:  mechanics\n",
      "JSON string: {\"mech_num\": 2, \"mech_name\": \"someName\", \"mech_salary\": \"someSalary\", \"mech_specialty\": \"someSpecialty\"}\n",
      "PKvals from Insert:  [2] for Table:  cars\n",
      "JSON string: {\"car_num\": 2, \"car_model\": \"someCar\", \"car_year\": \"someYear\"}\n",
      "PKvals from Insert:  [3] for Table:  mechanics\n",
      "JSON string: {\"mech_num\": 3, \"mech_name\": \"someName\", \"mech_salary\": \"someSalary\", \"mech_specialty\": \"someSpecialty\"}\n",
      "PKvals from Insert:  [3] for Table:  cars\n",
      "JSON string: {\"car_num\": 3, \"car_model\": \"someCar\", \"car_year\": \"someYear\"}\n",
      "PKvals from Insert:  [4] for Table:  mechanics\n",
      "JSON string: {\"mech_num\": 4, \"mech_name\": \"someName\", \"mech_salary\": \"someSalary\", \"mech_specialty\": \"someSpecialty\"}\n",
      "PKvals from Insert:  [4] for Table:  cars\n",
      "JSON string: {\"car_num\": 4, \"car_model\": \"someCar\", \"car_year\": \"someYear\"}\n",
      "PKvals from Insert:  [5] for Table:  mechanics\n",
      "JSON string: {\"mech_num\": 5, \"mech_name\": \"someName\", \"mech_salary\": \"someSalary\", \"mech_specialty\": \"someSpecialty\"}\n",
      "PKvals from Insert:  [5] for Table:  cars\n",
      "JSON string: {\"car_num\": 5, \"car_model\": \"someCar\", \"car_year\": \"someYear\"}\n",
      "PKvals from Insert:  [6] for Table:  mechanics\n",
      "JSON string: {\"mech_num\": 6, \"mech_name\": \"someName\", \"mech_salary\": \"someSalary\", \"mech_specialty\": \"someSpecialty\"}\n",
      "PKvals from Insert:  [6] for Table:  cars\n",
      "JSON string: {\"car_num\": 6, \"car_model\": \"someCar\", \"car_year\": \"someYear\"}\n",
      "PKvals from Insert:  [7] for Table:  mechanics\n",
      "JSON string: {\"mech_num\": 7, \"mech_name\": \"someName\", \"mech_salary\": \"someSalary\", \"mech_specialty\": \"someSpecialty\"}\n",
      "PKvals from Insert:  [7] for Table:  cars\n",
      "JSON string: {\"car_num\": 7, \"car_model\": \"someCar\", \"car_year\": \"someYear\"}\n",
      "PKvals from Insert:  [8] for Table:  mechanics\n",
      "JSON string: {\"mech_num\": 8, \"mech_name\": \"someName\", \"mech_salary\": \"someSalary\", \"mech_specialty\": \"someSpecialty\"}\n",
      "PKvals from Insert:  [8] for Table:  cars\n",
      "JSON string: {\"car_num\": 8, \"car_model\": \"someCar\", \"car_year\": \"someYear\"}\n",
      "PKvals from Insert:  [9] for Table:  mechanics\n",
      "JSON string: {\"mech_num\": 9, \"mech_name\": \"someName\", \"mech_salary\": \"someSalary\", \"mech_specialty\": \"someSpecialty\"}\n",
      "PKvals from Insert:  [9] for Table:  cars\n",
      "JSON string: {\"car_num\": 9, \"car_model\": \"someCar\", \"car_year\": \"someYear\"}\n",
      "PKvals from Insert:  [0, 0, 'someRepairDate'] for Table:  repairs\n",
      "FKvals from Insert:  [0, 0] for Table:  repairs\n",
      "VerifyFK insertDict {'mech_num': 0, 'car_num': 0}\n",
      "VerifyFKvalExists for refTable, PK, FK:  mechanics mech_num {'colName': 'mech_num', 'refTable': <Private_Pkgs.Table.Table object at 0x7f4f0c0ae828>, 'refColName': 'mech_num'}\n",
      "VerifyFKvalExists, PKValList:  [0]\n",
      "VerifyFKvalExists for refTable, PK, FK:  mechanics mech_num {'colName': 'car_num', 'refTable': <Private_Pkgs.Table.Table object at 0x7f4f0c0ae978>, 'refColName': 'car_num'}\n",
      "[0]  exists in the following row (VerifyUniquePKval):\n",
      "{'mech_num': 0, 'mech_name': 'someName', 'mech_salary': 'someSalary', 'mech_specialty': 'someSpecialty'}\n",
      "VerifyFKvalExists for refTable, PK, FK:  cars car_num {'colName': 'mech_num', 'refTable': <Private_Pkgs.Table.Table object at 0x7f4f0c0ae828>, 'refColName': 'mech_num'}\n",
      "VerifyFKvalExists for refTable, PK, FK:  cars car_num {'colName': 'car_num', 'refTable': <Private_Pkgs.Table.Table object at 0x7f4f0c0ae978>, 'refColName': 'car_num'}\n",
      "VerifyFKvalExists, PKValList:  [0]\n",
      "[0]  exists in the following row (VerifyUniquePKval):\n",
      "{'car_num': 0, 'car_model': 'someCar', 'car_year': 'someYear'}\n",
      "JSON string: {\"mech_num\": 0, \"car_num\": 0, \"repair_date\": \"someRepairDate\"}\n",
      "FKval from Insert:  [0] for Table:  repairs\n",
      "FKTable is:  mech_num_FKTable\n",
      "**** The parent_keyValue is bytearray(b'*\\x9d\\xf2&P\\x12XCn&\\xcc\\x81Tu(\\x10}(\\xd6\\xa9')\n",
      "FKval from Insert:  [0] for Table:  repairs\n",
      "FKTable is:  car_num_FKTable\n",
      "**** The parent_keyValue is bytearray(b'*\\x9d\\xf2&P\\x12XCn&\\xcc\\x81Tu(\\x10}(\\xd6\\xa9')\n",
      "PKvals from Insert:  [1, 1, 'someRepairDate'] for Table:  repairs\n",
      "FKvals from Insert:  [1, 1] for Table:  repairs\n",
      "VerifyFK insertDict {'mech_num': 1, 'car_num': 1}\n",
      "VerifyFKvalExists for refTable, PK, FK:  mechanics mech_num {'colName': 'mech_num', 'refTable': <Private_Pkgs.Table.Table object at 0x7f4f0c0ae828>, 'refColName': 'mech_num'}\n",
      "VerifyFKvalExists, PKValList:  [1]\n",
      "VerifyFKvalExists for refTable, PK, FK:  mechanics mech_num {'colName': 'car_num', 'refTable': <Private_Pkgs.Table.Table object at 0x7f4f0c0ae978>, 'refColName': 'car_num'}\n",
      "[1]  exists in the following row (VerifyUniquePKval):\n",
      "{'mech_num': 1, 'mech_name': 'someName', 'mech_salary': 'someSalary', 'mech_specialty': 'someSpecialty'}\n",
      "VerifyFKvalExists for refTable, PK, FK:  cars car_num {'colName': 'mech_num', 'refTable': <Private_Pkgs.Table.Table object at 0x7f4f0c0ae828>, 'refColName': 'mech_num'}\n",
      "VerifyFKvalExists for refTable, PK, FK:  cars car_num {'colName': 'car_num', 'refTable': <Private_Pkgs.Table.Table object at 0x7f4f0c0ae978>, 'refColName': 'car_num'}\n",
      "VerifyFKvalExists, PKValList:  [1]\n",
      "[1]  exists in the following row (VerifyUniquePKval):\n",
      "{'car_num': 1, 'car_model': 'someCar', 'car_year': 'someYear'}\n",
      "JSON string: {\"mech_num\": 1, \"car_num\": 1, \"repair_date\": \"someRepairDate\"}\n",
      "FKval from Insert:  [1] for Table:  repairs\n",
      "FKTable is:  mech_num_FKTable\n",
      "**** The parent_keyValue is bytearray(b'\\xf1\\xfe\\xe3\\xa5\\x997\\xae\\\\O\\xa9w$Z)\\x07C\\xb9e<0')\n",
      "FKval from Insert:  [1] for Table:  repairs\n",
      "FKTable is:  car_num_FKTable\n",
      "**** The parent_keyValue is bytearray(b'\\xf1\\xfe\\xe3\\xa5\\x997\\xae\\\\O\\xa9w$Z)\\x07C\\xb9e<0')\n",
      "PKvals from Insert:  [2, 2, 'someRepairDate'] for Table:  repairs\n",
      "FKvals from Insert:  [2, 2] for Table:  repairs\n",
      "VerifyFK insertDict {'mech_num': 2, 'car_num': 2}\n",
      "VerifyFKvalExists for refTable, PK, FK:  mechanics mech_num {'colName': 'mech_num', 'refTable': <Private_Pkgs.Table.Table object at 0x7f4f0c0ae828>, 'refColName': 'mech_num'}\n",
      "VerifyFKvalExists, PKValList:  [2]\n",
      "VerifyFKvalExists for refTable, PK, FK:  mechanics mech_num {'colName': 'car_num', 'refTable': <Private_Pkgs.Table.Table object at 0x7f4f0c0ae978>, 'refColName': 'car_num'}\n",
      "[2]  exists in the following row (VerifyUniquePKval):\n",
      "{'mech_num': 2, 'mech_name': 'someName', 'mech_salary': 'someSalary', 'mech_specialty': 'someSpecialty'}\n",
      "VerifyFKvalExists for refTable, PK, FK:  cars car_num {'colName': 'mech_num', 'refTable': <Private_Pkgs.Table.Table object at 0x7f4f0c0ae828>, 'refColName': 'mech_num'}\n",
      "VerifyFKvalExists for refTable, PK, FK:  cars car_num {'colName': 'car_num', 'refTable': <Private_Pkgs.Table.Table object at 0x7f4f0c0ae978>, 'refColName': 'car_num'}\n",
      "VerifyFKvalExists, PKValList:  [2]\n",
      "[2]  exists in the following row (VerifyUniquePKval):\n",
      "{'car_num': 2, 'car_model': 'someCar', 'car_year': 'someYear'}\n",
      "JSON string: {\"mech_num\": 2, \"car_num\": 2, \"repair_date\": \"someRepairDate\"}\n",
      "FKval from Insert:  [2] for Table:  repairs\n",
      "FKTable is:  mech_num_FKTable\n",
      "**** The parent_keyValue is bytearray(b'`\\xc8BY\\xc7p\\xa7E;\\xde_KA\\x80\\xb9\\x94$\\x8e\\xc4(')\n",
      "FKval from Insert:  [2] for Table:  repairs\n",
      "FKTable is:  car_num_FKTable\n",
      "**** The parent_keyValue is bytearray(b'`\\xc8BY\\xc7p\\xa7E;\\xde_KA\\x80\\xb9\\x94$\\x8e\\xc4(')\n",
      "PKvals from Insert:  [3, 3, 'someRepairDate'] for Table:  repairs\n",
      "FKvals from Insert:  [3, 3] for Table:  repairs\n",
      "VerifyFK insertDict {'mech_num': 3, 'car_num': 3}\n",
      "VerifyFKvalExists for refTable, PK, FK:  mechanics mech_num {'colName': 'mech_num', 'refTable': <Private_Pkgs.Table.Table object at 0x7f4f0c0ae828>, 'refColName': 'mech_num'}\n",
      "VerifyFKvalExists, PKValList:  [3]\n",
      "VerifyFKvalExists for refTable, PK, FK:  mechanics mech_num {'colName': 'car_num', 'refTable': <Private_Pkgs.Table.Table object at 0x7f4f0c0ae978>, 'refColName': 'car_num'}\n",
      "[3]  exists in the following row (VerifyUniquePKval):\n",
      "{'mech_num': 3, 'mech_name': 'someName', 'mech_salary': 'someSalary', 'mech_specialty': 'someSpecialty'}\n",
      "VerifyFKvalExists for refTable, PK, FK:  cars car_num {'colName': 'mech_num', 'refTable': <Private_Pkgs.Table.Table object at 0x7f4f0c0ae828>, 'refColName': 'mech_num'}\n",
      "VerifyFKvalExists for refTable, PK, FK:  cars car_num {'colName': 'car_num', 'refTable': <Private_Pkgs.Table.Table object at 0x7f4f0c0ae978>, 'refColName': 'car_num'}\n",
      "VerifyFKvalExists, PKValList:  [3]\n",
      "[3]  exists in the following row (VerifyUniquePKval):\n",
      "{'car_num': 3, 'car_model': 'someCar', 'car_year': 'someYear'}\n",
      "JSON string: {\"mech_num\": 3, \"car_num\": 3, \"repair_date\": \"someRepairDate\"}\n",
      "FKval from Insert:  [3] for Table:  repairs\n",
      "FKTable is:  mech_num_FKTable\n",
      "**** The parent_keyValue is bytearray(b'\\x89\\x06I\\x97l\\xc2[\\xc2\\x075\\\\\\x9a\\x0e0\\x8c-\\\\b\\xf8~')\n",
      "FKval from Insert:  [3] for Table:  repairs\n",
      "FKTable is:  car_num_FKTable\n",
      "**** The parent_keyValue is bytearray(b'\\x89\\x06I\\x97l\\xc2[\\xc2\\x075\\\\\\x9a\\x0e0\\x8c-\\\\b\\xf8~')\n",
      "PKvals from Insert:  [4, 4, 'someRepairDate'] for Table:  repairs\n",
      "FKvals from Insert:  [4, 4] for Table:  repairs\n",
      "VerifyFK insertDict {'mech_num': 4, 'car_num': 4}\n",
      "VerifyFKvalExists for refTable, PK, FK:  mechanics mech_num {'colName': 'mech_num', 'refTable': <Private_Pkgs.Table.Table object at 0x7f4f0c0ae828>, 'refColName': 'mech_num'}\n",
      "VerifyFKvalExists, PKValList:  [4]\n",
      "VerifyFKvalExists for refTable, PK, FK:  mechanics mech_num {'colName': 'car_num', 'refTable': <Private_Pkgs.Table.Table object at 0x7f4f0c0ae978>, 'refColName': 'car_num'}\n",
      "[4]  exists in the following row (VerifyUniquePKval):\n",
      "{'mech_num': 4, 'mech_name': 'someName', 'mech_salary': 'someSalary', 'mech_specialty': 'someSpecialty'}\n",
      "VerifyFKvalExists for refTable, PK, FK:  cars car_num {'colName': 'mech_num', 'refTable': <Private_Pkgs.Table.Table object at 0x7f4f0c0ae828>, 'refColName': 'mech_num'}\n",
      "VerifyFKvalExists for refTable, PK, FK:  cars car_num {'colName': 'car_num', 'refTable': <Private_Pkgs.Table.Table object at 0x7f4f0c0ae978>, 'refColName': 'car_num'}\n",
      "VerifyFKvalExists, PKValList:  [4]\n",
      "[4]  exists in the following row (VerifyUniquePKval):\n",
      "{'car_num': 4, 'car_model': 'someCar', 'car_year': 'someYear'}\n",
      "JSON string: {\"mech_num\": 4, \"car_num\": 4, \"repair_date\": \"someRepairDate\"}\n",
      "FKval from Insert:  [4] for Table:  repairs\n",
      "FKTable is:  mech_num_FKTable\n",
      "**** The parent_keyValue is bytearray(b'\\x93\\x9c!6\\t\\xc0Y\\xc1\\x87+H\\xb2iR\\x8d\\x06\\xfa\\x9b\\xbc\\xce')\n",
      "FKval from Insert:  [4] for Table:  repairs\n",
      "FKTable is:  car_num_FKTable\n",
      "**** The parent_keyValue is bytearray(b'\\x93\\x9c!6\\t\\xc0Y\\xc1\\x87+H\\xb2iR\\x8d\\x06\\xfa\\x9b\\xbc\\xce')\n",
      "PKvals from Insert:  [5, 5, 'someRepairDate'] for Table:  repairs\n",
      "FKvals from Insert:  [5, 5] for Table:  repairs\n",
      "VerifyFK insertDict {'mech_num': 5, 'car_num': 5}\n",
      "VerifyFKvalExists for refTable, PK, FK:  mechanics mech_num {'colName': 'mech_num', 'refTable': <Private_Pkgs.Table.Table object at 0x7f4f0c0ae828>, 'refColName': 'mech_num'}\n",
      "VerifyFKvalExists, PKValList:  [5]\n",
      "VerifyFKvalExists for refTable, PK, FK:  mechanics mech_num {'colName': 'car_num', 'refTable': <Private_Pkgs.Table.Table object at 0x7f4f0c0ae978>, 'refColName': 'car_num'}\n",
      "[5]  exists in the following row (VerifyUniquePKval):\n",
      "{'mech_num': 5, 'mech_name': 'someName', 'mech_salary': 'someSalary', 'mech_specialty': 'someSpecialty'}\n",
      "VerifyFKvalExists for refTable, PK, FK:  cars car_num {'colName': 'mech_num', 'refTable': <Private_Pkgs.Table.Table object at 0x7f4f0c0ae828>, 'refColName': 'mech_num'}\n",
      "VerifyFKvalExists for refTable, PK, FK:  cars car_num {'colName': 'car_num', 'refTable': <Private_Pkgs.Table.Table object at 0x7f4f0c0ae978>, 'refColName': 'car_num'}\n",
      "VerifyFKvalExists, PKValList:  [5]\n",
      "[5]  exists in the following row (VerifyUniquePKval):\n",
      "{'car_num': 5, 'car_model': 'someCar', 'car_year': 'someYear'}\n",
      "JSON string: {\"mech_num\": 5, \"car_num\": 5, \"repair_date\": \"someRepairDate\"}\n",
      "FKval from Insert:  [5] for Table:  repairs\n",
      "FKTable is:  mech_num_FKTable\n",
      "**** The parent_keyValue is bytearray(b'\\xf9*t\\x90A\\x99\\x1af\\xf8*\\x94\\xe04\\xa2C\\x15C\\xee2\\xb8')\n",
      "FKval from Insert:  [5] for Table:  repairs\n",
      "FKTable is:  car_num_FKTable\n",
      "**** The parent_keyValue is bytearray(b'\\xf9*t\\x90A\\x99\\x1af\\xf8*\\x94\\xe04\\xa2C\\x15C\\xee2\\xb8')\n",
      "PKvals from Insert:  [6, 6, 'someRepairDate'] for Table:  repairs\n",
      "FKvals from Insert:  [6, 6] for Table:  repairs\n",
      "VerifyFK insertDict {'mech_num': 6, 'car_num': 6}\n",
      "VerifyFKvalExists for refTable, PK, FK:  mechanics mech_num {'colName': 'mech_num', 'refTable': <Private_Pkgs.Table.Table object at 0x7f4f0c0ae828>, 'refColName': 'mech_num'}\n",
      "VerifyFKvalExists, PKValList:  [6]\n",
      "VerifyFKvalExists for refTable, PK, FK:  mechanics mech_num {'colName': 'car_num', 'refTable': <Private_Pkgs.Table.Table object at 0x7f4f0c0ae978>, 'refColName': 'car_num'}\n",
      "[6]  exists in the following row (VerifyUniquePKval):\n",
      "{'mech_num': 6, 'mech_name': 'someName', 'mech_salary': 'someSalary', 'mech_specialty': 'someSpecialty'}\n",
      "VerifyFKvalExists for refTable, PK, FK:  cars car_num {'colName': 'mech_num', 'refTable': <Private_Pkgs.Table.Table object at 0x7f4f0c0ae828>, 'refColName': 'mech_num'}\n",
      "VerifyFKvalExists for refTable, PK, FK:  cars car_num {'colName': 'car_num', 'refTable': <Private_Pkgs.Table.Table object at 0x7f4f0c0ae978>, 'refColName': 'car_num'}\n",
      "VerifyFKvalExists, PKValList:  [6]\n",
      "[6]  exists in the following row (VerifyUniquePKval):\n",
      "{'car_num': 6, 'car_model': 'someCar', 'car_year': 'someYear'}\n",
      "JSON string: {\"mech_num\": 6, \"car_num\": 6, \"repair_date\": \"someRepairDate\"}\n",
      "FKval from Insert:  [6] for Table:  repairs\n",
      "FKTable is:  mech_num_FKTable\n",
      "**** The parent_keyValue is bytearray(b'\\x82\\xb8\\x1e\\xd4\\x91\\x89X)\\xa4\\xf5y0\\xa1#\\xdb\\x9el\\xf3\\xbc\\x0c')\n",
      "FKval from Insert:  [6] for Table:  repairs\n",
      "FKTable is:  car_num_FKTable\n",
      "**** The parent_keyValue is bytearray(b'\\x82\\xb8\\x1e\\xd4\\x91\\x89X)\\xa4\\xf5y0\\xa1#\\xdb\\x9el\\xf3\\xbc\\x0c')\n",
      "PKvals from Insert:  [7, 7, 'someRepairDate'] for Table:  repairs\n",
      "FKvals from Insert:  [7, 7] for Table:  repairs\n",
      "VerifyFK insertDict {'mech_num': 7, 'car_num': 7}\n",
      "VerifyFKvalExists for refTable, PK, FK:  mechanics mech_num {'colName': 'mech_num', 'refTable': <Private_Pkgs.Table.Table object at 0x7f4f0c0ae828>, 'refColName': 'mech_num'}\n",
      "VerifyFKvalExists, PKValList:  [7]\n",
      "VerifyFKvalExists for refTable, PK, FK:  mechanics mech_num {'colName': 'car_num', 'refTable': <Private_Pkgs.Table.Table object at 0x7f4f0c0ae978>, 'refColName': 'car_num'}\n",
      "[7]  exists in the following row (VerifyUniquePKval):\n",
      "{'mech_num': 7, 'mech_name': 'someName', 'mech_salary': 'someSalary', 'mech_specialty': 'someSpecialty'}\n",
      "VerifyFKvalExists for refTable, PK, FK:  cars car_num {'colName': 'mech_num', 'refTable': <Private_Pkgs.Table.Table object at 0x7f4f0c0ae828>, 'refColName': 'mech_num'}\n",
      "VerifyFKvalExists for refTable, PK, FK:  cars car_num {'colName': 'car_num', 'refTable': <Private_Pkgs.Table.Table object at 0x7f4f0c0ae978>, 'refColName': 'car_num'}\n",
      "VerifyFKvalExists, PKValList:  [7]\n",
      "[7]  exists in the following row (VerifyUniquePKval):\n",
      "{'car_num': 7, 'car_model': 'someCar', 'car_year': 'someYear'}\n",
      "JSON string: {\"mech_num\": 7, \"car_num\": 7, \"repair_date\": \"someRepairDate\"}\n",
      "FKval from Insert:  [7] for Table:  repairs\n",
      "FKTable is:  mech_num_FKTable\n",
      "**** The parent_keyValue is bytearray(b'\\x12\\x91\\xd5\\x0bZ@\\xb1\\xc6Yz8\\xf1\\x93:2\\xdc\\xe7]\\xefU')\n",
      "FKval from Insert:  [7] for Table:  repairs\n",
      "FKTable is:  car_num_FKTable\n",
      "**** The parent_keyValue is bytearray(b'\\x12\\x91\\xd5\\x0bZ@\\xb1\\xc6Yz8\\xf1\\x93:2\\xdc\\xe7]\\xefU')\n",
      "PKvals from Insert:  [8, 8, 'someRepairDate'] for Table:  repairs\n",
      "FKvals from Insert:  [8, 8] for Table:  repairs\n",
      "VerifyFK insertDict {'mech_num': 8, 'car_num': 8}\n",
      "VerifyFKvalExists for refTable, PK, FK:  mechanics mech_num {'colName': 'mech_num', 'refTable': <Private_Pkgs.Table.Table object at 0x7f4f0c0ae828>, 'refColName': 'mech_num'}\n",
      "VerifyFKvalExists, PKValList:  [8]\n",
      "VerifyFKvalExists for refTable, PK, FK:  mechanics mech_num {'colName': 'car_num', 'refTable': <Private_Pkgs.Table.Table object at 0x7f4f0c0ae978>, 'refColName': 'car_num'}\n",
      "[8]  exists in the following row (VerifyUniquePKval):\n",
      "{'mech_num': 8, 'mech_name': 'someName', 'mech_salary': 'someSalary', 'mech_specialty': 'someSpecialty'}\n",
      "VerifyFKvalExists for refTable, PK, FK:  cars car_num {'colName': 'mech_num', 'refTable': <Private_Pkgs.Table.Table object at 0x7f4f0c0ae828>, 'refColName': 'mech_num'}\n",
      "VerifyFKvalExists for refTable, PK, FK:  cars car_num {'colName': 'car_num', 'refTable': <Private_Pkgs.Table.Table object at 0x7f4f0c0ae978>, 'refColName': 'car_num'}\n",
      "VerifyFKvalExists, PKValList:  [8]\n",
      "[8]  exists in the following row (VerifyUniquePKval):\n",
      "{'car_num': 8, 'car_model': 'someCar', 'car_year': 'someYear'}\n",
      "JSON string: {\"mech_num\": 8, \"car_num\": 8, \"repair_date\": \"someRepairDate\"}\n",
      "FKval from Insert:  [8] for Table:  repairs\n",
      "FKTable is:  mech_num_FKTable\n",
      "**** The parent_keyValue is bytearray(b'\\xc3\\x98\\x82/DL\\x83\\xc3\\xe5\\x19\\r#\\x10\\xec\\xb3A\\xb9\\x1bSv')\n",
      "FKval from Insert:  [8] for Table:  repairs\n",
      "FKTable is:  car_num_FKTable\n",
      "**** The parent_keyValue is bytearray(b'\\xc3\\x98\\x82/DL\\x83\\xc3\\xe5\\x19\\r#\\x10\\xec\\xb3A\\xb9\\x1bSv')\n",
      "PKvals from Insert:  [9, 9, 'someRepairDate'] for Table:  repairs\n",
      "FKvals from Insert:  [9, 9] for Table:  repairs\n",
      "VerifyFK insertDict {'mech_num': 9, 'car_num': 9}\n",
      "VerifyFKvalExists for refTable, PK, FK:  mechanics mech_num {'colName': 'mech_num', 'refTable': <Private_Pkgs.Table.Table object at 0x7f4f0c0ae828>, 'refColName': 'mech_num'}\n",
      "VerifyFKvalExists, PKValList:  [9]\n",
      "VerifyFKvalExists for refTable, PK, FK:  mechanics mech_num {'colName': 'car_num', 'refTable': <Private_Pkgs.Table.Table object at 0x7f4f0c0ae978>, 'refColName': 'car_num'}\n",
      "[9]  exists in the following row (VerifyUniquePKval):\n",
      "{'mech_num': 9, 'mech_name': 'someName', 'mech_salary': 'someSalary', 'mech_specialty': 'someSpecialty'}\n",
      "VerifyFKvalExists for refTable, PK, FK:  cars car_num {'colName': 'mech_num', 'refTable': <Private_Pkgs.Table.Table object at 0x7f4f0c0ae828>, 'refColName': 'mech_num'}\n",
      "VerifyFKvalExists for refTable, PK, FK:  cars car_num {'colName': 'car_num', 'refTable': <Private_Pkgs.Table.Table object at 0x7f4f0c0ae978>, 'refColName': 'car_num'}\n",
      "VerifyFKvalExists, PKValList:  [9]\n",
      "[9]  exists in the following row (VerifyUniquePKval):\n",
      "{'car_num': 9, 'car_model': 'someCar', 'car_year': 'someYear'}\n",
      "JSON string: {\"mech_num\": 9, \"car_num\": 9, \"repair_date\": \"someRepairDate\"}\n",
      "FKval from Insert:  [9] for Table:  repairs\n",
      "FKTable is:  mech_num_FKTable\n",
      "**** The parent_keyValue is bytearray(b\"5\\xe6\\x8dZg\\x01\\xba\\'\\n\\xbf\\xff<\\x8e\\x93\\x8b\\xb5k\\xd0\\x82\\x08\")\n",
      "FKval from Insert:  [9] for Table:  repairs\n",
      "FKTable is:  car_num_FKTable\n",
      "**** The parent_keyValue is bytearray(b\"5\\xe6\\x8dZg\\x01\\xba\\'\\n\\xbf\\xff<\\x8e\\x93\\x8b\\xb5k\\xd0\\x82\\x08\")\n"
     ]
    },
    {
     "data": {
      "text/plain": [
       "{'RepairTable': [3.543376922607422,\n",
       "  3.4296512603759766,\n",
       "  3.682374954223633,\n",
       "  3.381013870239258,\n",
       "  3.462076187133789,\n",
       "  3.4584999084472656,\n",
       "  3.538846969604492,\n",
       "  3.4914016723632812,\n",
       "  3.456592559814453,\n",
       "  3.4830570220947266]}"
      ]
     },
     "execution_count": 48,
     "metadata": {},
     "output_type": "execute_result"
    }
   ],
   "source": [
    "BuildTables()\n",
    "InsertData()"
   ]
  },
  {
   "cell_type": "code",
   "execution_count": 49,
   "metadata": {},
   "outputs": [
    {
     "name": "stdout",
     "output_type": "stream",
     "text": [
      "[7, 7, 'someRepairDate']  exists in the following row (VerifyUniquePKval):\n",
      "{'mech_num': 7, 'car_num': 7, 'repair_date': 'someRepairDate'}\n",
      "****This table has FK refs (it's a parent): repairs\n",
      "****Updating FKtable  mech_num_FKTable\n",
      "****Updating FKtable  car_num_FKTable\n",
      "****Removing record  [7, 7, 'someRepairDate']\n",
      "[7]  exists in the following row (VerifyUniquePKval):\n",
      "{'mech_num': 7, 'mech_name': 'someName', 'mech_salary': 'someSalary', 'mech_specialty': 'someSpecialty'}\n",
      "****This table has no FK refs, checking for references: mechanics\n",
      "****No references found, removing record [7]\n",
      "[7]  exists in the following row (VerifyUniquePKval):\n",
      "{'car_num': 7, 'car_model': 'someCar', 'car_year': 'someYear'}\n",
      "****This table has no FK refs, checking for references: cars\n",
      "****No references found, removing record [7]\n",
      "[3, 3, 'someRepairDate']  exists in the following row (VerifyUniquePKval):\n",
      "{'mech_num': 3, 'car_num': 3, 'repair_date': 'someRepairDate'}\n",
      "****This table has FK refs (it's a parent): repairs\n",
      "****Updating FKtable  mech_num_FKTable\n",
      "****Updating FKtable  car_num_FKTable\n",
      "****Removing record  [3, 3, 'someRepairDate']\n",
      "[3]  exists in the following row (VerifyUniquePKval):\n",
      "{'mech_num': 3, 'mech_name': 'someName', 'mech_salary': 'someSalary', 'mech_specialty': 'someSpecialty'}\n",
      "****This table has no FK refs, checking for references: mechanics\n",
      "****No references found, removing record [3]\n",
      "[3]  exists in the following row (VerifyUniquePKval):\n",
      "{'car_num': 3, 'car_model': 'someCar', 'car_year': 'someYear'}\n",
      "****This table has no FK refs, checking for references: cars\n",
      "****No references found, removing record [3]\n",
      "[2, 2, 'someRepairDate']  exists in the following row (VerifyUniquePKval):\n",
      "{'mech_num': 2, 'car_num': 2, 'repair_date': 'someRepairDate'}\n",
      "****This table has FK refs (it's a parent): repairs\n",
      "****Updating FKtable  mech_num_FKTable\n",
      "****Updating FKtable  car_num_FKTable\n",
      "****Removing record  [2, 2, 'someRepairDate']\n",
      "[2]  exists in the following row (VerifyUniquePKval):\n",
      "{'mech_num': 2, 'mech_name': 'someName', 'mech_salary': 'someSalary', 'mech_specialty': 'someSpecialty'}\n",
      "****This table has no FK refs, checking for references: mechanics\n",
      "****No references found, removing record [2]\n",
      "[2]  exists in the following row (VerifyUniquePKval):\n",
      "{'car_num': 2, 'car_model': 'someCar', 'car_year': 'someYear'}\n",
      "****This table has no FK refs, checking for references: cars\n",
      "****No references found, removing record [2]\n",
      "[8, 8, 'someRepairDate']  exists in the following row (VerifyUniquePKval):\n",
      "{'mech_num': 8, 'car_num': 8, 'repair_date': 'someRepairDate'}\n",
      "****This table has FK refs (it's a parent): repairs\n",
      "****Updating FKtable  mech_num_FKTable\n",
      "****Updating FKtable  car_num_FKTable\n",
      "****Removing record  [8, 8, 'someRepairDate']\n",
      "[8]  exists in the following row (VerifyUniquePKval):\n",
      "{'mech_num': 8, 'mech_name': 'someName', 'mech_salary': 'someSalary', 'mech_specialty': 'someSpecialty'}\n",
      "****This table has no FK refs, checking for references: mechanics\n",
      "****No references found, removing record [8]\n",
      "[8]  exists in the following row (VerifyUniquePKval):\n",
      "{'car_num': 8, 'car_model': 'someCar', 'car_year': 'someYear'}\n",
      "****This table has no FK refs, checking for references: cars\n",
      "****No references found, removing record [8]\n",
      "[5, 5, 'someRepairDate']  exists in the following row (VerifyUniquePKval):\n",
      "{'mech_num': 5, 'car_num': 5, 'repair_date': 'someRepairDate'}\n",
      "****This table has FK refs (it's a parent): repairs\n",
      "****Updating FKtable  mech_num_FKTable\n",
      "****Updating FKtable  car_num_FKTable\n",
      "****Removing record  [5, 5, 'someRepairDate']\n",
      "[5]  exists in the following row (VerifyUniquePKval):\n",
      "{'mech_num': 5, 'mech_name': 'someName', 'mech_salary': 'someSalary', 'mech_specialty': 'someSpecialty'}\n",
      "****This table has no FK refs, checking for references: mechanics\n",
      "****No references found, removing record [5]\n",
      "[5]  exists in the following row (VerifyUniquePKval):\n",
      "{'car_num': 5, 'car_model': 'someCar', 'car_year': 'someYear'}\n",
      "****This table has no FK refs, checking for references: cars\n",
      "****No references found, removing record [5]\n"
     ]
    }
   ],
   "source": [
    "deleteStartTime = time.time() #deleteStartTime/EndTime only use to give an overall time for the delete loop\n",
    "deleteAll_times = DeleteData()\n",
    "deleteEndTime = time.time()"
   ]
  },
  {
   "cell_type": "code",
   "execution_count": 50,
   "metadata": {},
   "outputs": [
    {
     "name": "stdout",
     "output_type": "stream",
     "text": [
      "Verifying Constraints is ENABLED\n",
      "Statistics for Insert with 10 rows, Verify Constraints set to: True\n",
      "Verifying Constraints is ENABLED\n",
      "Statistics for:  RepairTable\n",
      "\tMEDIAN3.705739974975586 ms\n",
      "\tMEAN  4.221343994140625 ms\n",
      "\tSTDEV 1.2817323451635583 ms\n",
      "Verifying Constraints is ENABLED\n",
      "Statistics for:  MechTable\n",
      "\tMEDIAN1.24359130859375 ms\n",
      "\tMEAN  1.2331008911132812 ms\n",
      "\tSTDEV 0.058039378213424316 ms\n",
      "Verifying Constraints is ENABLED\n",
      "Statistics for:  CarTable\n",
      "\tMEDIAN1.2421607971191406 ms\n",
      "\tMEAN  1.2804985046386719 ms\n",
      "\tSTDEV 0.12511267950272062 ms\n"
     ]
    }
   ],
   "source": [
    "withConstraintTimesAll = report_times(deleteAll_times)"
   ]
  },
  {
   "cell_type": "code",
   "execution_count": 51,
   "metadata": {},
   "outputs": [
    {
     "name": "stdout",
     "output_type": "stream",
     "text": [
      "Removing rows in Table  mechanics\n",
      "Removing rows in Table  cars\n",
      "Removing rows in Table  repairs\n",
      "Removing rows in Table  mech_num_FKTable\n",
      "Removing rows in Table  car_num_FKTable\n",
      "Note:  25 records removed\n"
     ]
    }
   ],
   "source": [
    "Table.RemoveAllTables(client, True) #True to wait for confirmation"
   ]
  },
  {
   "cell_type": "code",
   "execution_count": 52,
   "metadata": {},
   "outputs": [],
   "source": [
    "Table.SetVerifyConstraints(False)\n",
    "Table.UseFKTables(False)"
   ]
  },
  {
   "cell_type": "code",
   "execution_count": 53,
   "metadata": {},
   "outputs": [
    {
     "name": "stdout",
     "output_type": "stream",
     "text": [
      "mechanics has complete FK to PK references (or none exist in table)\n",
      "cars has complete FK to PK references (or none exist in table)\n",
      "repairs has complete FK to PK references (or none exist in table)\n",
      "PKvals from Insert:  [0] for Table:  mechanics\n",
      "JSON string: {\"mech_num\": 0, \"mech_name\": \"someName\", \"mech_salary\": \"someSalary\", \"mech_specialty\": \"someSpecialty\"}\n",
      "PKvals from Insert:  [0] for Table:  cars\n",
      "JSON string: {\"car_num\": 0, \"car_model\": \"someCar\", \"car_year\": \"someYear\"}\n",
      "PKvals from Insert:  [1] for Table:  mechanics\n",
      "JSON string: {\"mech_num\": 1, \"mech_name\": \"someName\", \"mech_salary\": \"someSalary\", \"mech_specialty\": \"someSpecialty\"}\n",
      "PKvals from Insert:  [1] for Table:  cars\n",
      "JSON string: {\"car_num\": 1, \"car_model\": \"someCar\", \"car_year\": \"someYear\"}\n",
      "PKvals from Insert:  [2] for Table:  mechanics\n",
      "JSON string: {\"mech_num\": 2, \"mech_name\": \"someName\", \"mech_salary\": \"someSalary\", \"mech_specialty\": \"someSpecialty\"}\n",
      "PKvals from Insert:  [2] for Table:  cars\n",
      "JSON string: {\"car_num\": 2, \"car_model\": \"someCar\", \"car_year\": \"someYear\"}\n",
      "PKvals from Insert:  [3] for Table:  mechanics\n",
      "JSON string: {\"mech_num\": 3, \"mech_name\": \"someName\", \"mech_salary\": \"someSalary\", \"mech_specialty\": \"someSpecialty\"}\n",
      "PKvals from Insert:  [3] for Table:  cars\n",
      "JSON string: {\"car_num\": 3, \"car_model\": \"someCar\", \"car_year\": \"someYear\"}\n",
      "PKvals from Insert:  [4] for Table:  mechanics\n",
      "JSON string: {\"mech_num\": 4, \"mech_name\": \"someName\", \"mech_salary\": \"someSalary\", \"mech_specialty\": \"someSpecialty\"}\n",
      "PKvals from Insert:  [4] for Table:  cars\n",
      "JSON string: {\"car_num\": 4, \"car_model\": \"someCar\", \"car_year\": \"someYear\"}\n",
      "PKvals from Insert:  [5] for Table:  mechanics\n",
      "JSON string: {\"mech_num\": 5, \"mech_name\": \"someName\", \"mech_salary\": \"someSalary\", \"mech_specialty\": \"someSpecialty\"}\n",
      "PKvals from Insert:  [5] for Table:  cars\n",
      "JSON string: {\"car_num\": 5, \"car_model\": \"someCar\", \"car_year\": \"someYear\"}\n",
      "PKvals from Insert:  [6] for Table:  mechanics\n",
      "JSON string: {\"mech_num\": 6, \"mech_name\": \"someName\", \"mech_salary\": \"someSalary\", \"mech_specialty\": \"someSpecialty\"}\n",
      "PKvals from Insert:  [6] for Table:  cars\n",
      "JSON string: {\"car_num\": 6, \"car_model\": \"someCar\", \"car_year\": \"someYear\"}\n",
      "PKvals from Insert:  [7] for Table:  mechanics\n",
      "JSON string: {\"mech_num\": 7, \"mech_name\": \"someName\", \"mech_salary\": \"someSalary\", \"mech_specialty\": \"someSpecialty\"}\n",
      "PKvals from Insert:  [7] for Table:  cars\n",
      "JSON string: {\"car_num\": 7, \"car_model\": \"someCar\", \"car_year\": \"someYear\"}\n",
      "PKvals from Insert:  [8] for Table:  mechanics\n",
      "JSON string: {\"mech_num\": 8, \"mech_name\": \"someName\", \"mech_salary\": \"someSalary\", \"mech_specialty\": \"someSpecialty\"}\n",
      "PKvals from Insert:  [8] for Table:  cars\n",
      "JSON string: {\"car_num\": 8, \"car_model\": \"someCar\", \"car_year\": \"someYear\"}\n",
      "PKvals from Insert:  [9] for Table:  mechanics\n",
      "JSON string: {\"mech_num\": 9, \"mech_name\": \"someName\", \"mech_salary\": \"someSalary\", \"mech_specialty\": \"someSpecialty\"}\n",
      "PKvals from Insert:  [9] for Table:  cars\n",
      "JSON string: {\"car_num\": 9, \"car_model\": \"someCar\", \"car_year\": \"someYear\"}\n",
      "PKvals from Insert:  [0, 0, 'someRepairDate'] for Table:  repairs\n",
      "JSON string: {\"mech_num\": 0, \"car_num\": 0, \"repair_date\": \"someRepairDate\"}\n",
      "PKvals from Insert:  [1, 1, 'someRepairDate'] for Table:  repairs\n",
      "JSON string: {\"mech_num\": 1, \"car_num\": 1, \"repair_date\": \"someRepairDate\"}\n",
      "PKvals from Insert:  [2, 2, 'someRepairDate'] for Table:  repairs\n",
      "JSON string: {\"mech_num\": 2, \"car_num\": 2, \"repair_date\": \"someRepairDate\"}\n",
      "PKvals from Insert:  [3, 3, 'someRepairDate'] for Table:  repairs\n",
      "JSON string: {\"mech_num\": 3, \"car_num\": 3, \"repair_date\": \"someRepairDate\"}\n",
      "PKvals from Insert:  [4, 4, 'someRepairDate'] for Table:  repairs\n",
      "JSON string: {\"mech_num\": 4, \"car_num\": 4, \"repair_date\": \"someRepairDate\"}\n",
      "PKvals from Insert:  [5, 5, 'someRepairDate'] for Table:  repairs\n",
      "JSON string: {\"mech_num\": 5, \"car_num\": 5, \"repair_date\": \"someRepairDate\"}\n",
      "PKvals from Insert:  [6, 6, 'someRepairDate'] for Table:  repairs\n",
      "JSON string: {\"mech_num\": 6, \"car_num\": 6, \"repair_date\": \"someRepairDate\"}\n",
      "PKvals from Insert:  [7, 7, 'someRepairDate'] for Table:  repairs\n",
      "JSON string: {\"mech_num\": 7, \"car_num\": 7, \"repair_date\": \"someRepairDate\"}\n",
      "PKvals from Insert:  [8, 8, 'someRepairDate'] for Table:  repairs\n",
      "JSON string: {\"mech_num\": 8, \"car_num\": 8, \"repair_date\": \"someRepairDate\"}\n",
      "PKvals from Insert:  [9, 9, 'someRepairDate'] for Table:  repairs\n",
      "JSON string: {\"mech_num\": 9, \"car_num\": 9, \"repair_date\": \"someRepairDate\"}\n"
     ]
    },
    {
     "data": {
      "text/plain": [
       "{'RepairTable': [0.6694793701171875,\n",
       "  0.6506443023681641,\n",
       "  0.5981922149658203,\n",
       "  0.6132125854492188,\n",
       "  0.6184577941894531,\n",
       "  0.6170272827148438,\n",
       "  0.6146430969238281,\n",
       "  0.6010532379150391,\n",
       "  0.5850791931152344,\n",
       "  0.5900859832763672]}"
      ]
     },
     "execution_count": 53,
     "metadata": {},
     "output_type": "execute_result"
    }
   ],
   "source": [
    "BuildTables()\n",
    "InsertData()"
   ]
  },
  {
   "cell_type": "code",
   "execution_count": 54,
   "metadata": {},
   "outputs": [
    {
     "name": "stdout",
     "output_type": "stream",
     "text": [
      "[7, 7, 'someRepairDate']  exists in the following row (VerifyUniquePKval):\n",
      "{'mech_num': 7, 'car_num': 7, 'repair_date': 'someRepairDate'}\n",
      "****Removing record  [7, 7, 'someRepairDate']\n",
      "[7]  exists in the following row (VerifyUniquePKval):\n",
      "{'mech_num': 7, 'mech_name': 'someName', 'mech_salary': 'someSalary', 'mech_specialty': 'someSpecialty'}\n",
      "****Removing record  [7]\n",
      "[7]  exists in the following row (VerifyUniquePKval):\n",
      "{'car_num': 7, 'car_model': 'someCar', 'car_year': 'someYear'}\n",
      "****Removing record  [7]\n",
      "[3, 3, 'someRepairDate']  exists in the following row (VerifyUniquePKval):\n",
      "{'mech_num': 3, 'car_num': 3, 'repair_date': 'someRepairDate'}\n",
      "****Removing record  [3, 3, 'someRepairDate']\n",
      "[3]  exists in the following row (VerifyUniquePKval):\n",
      "{'mech_num': 3, 'mech_name': 'someName', 'mech_salary': 'someSalary', 'mech_specialty': 'someSpecialty'}\n",
      "****Removing record  [3]\n",
      "[3]  exists in the following row (VerifyUniquePKval):\n",
      "{'car_num': 3, 'car_model': 'someCar', 'car_year': 'someYear'}\n",
      "****Removing record  [3]\n",
      "[2, 2, 'someRepairDate']  exists in the following row (VerifyUniquePKval):\n",
      "{'mech_num': 2, 'car_num': 2, 'repair_date': 'someRepairDate'}\n",
      "****Removing record  [2, 2, 'someRepairDate']\n",
      "[2]  exists in the following row (VerifyUniquePKval):\n",
      "{'mech_num': 2, 'mech_name': 'someName', 'mech_salary': 'someSalary', 'mech_specialty': 'someSpecialty'}\n",
      "****Removing record  [2]\n",
      "[2]  exists in the following row (VerifyUniquePKval):\n",
      "{'car_num': 2, 'car_model': 'someCar', 'car_year': 'someYear'}\n",
      "****Removing record  [2]\n",
      "[8, 8, 'someRepairDate']  exists in the following row (VerifyUniquePKval):\n",
      "{'mech_num': 8, 'car_num': 8, 'repair_date': 'someRepairDate'}\n",
      "****Removing record  [8, 8, 'someRepairDate']\n",
      "[8]  exists in the following row (VerifyUniquePKval):\n",
      "{'mech_num': 8, 'mech_name': 'someName', 'mech_salary': 'someSalary', 'mech_specialty': 'someSpecialty'}\n",
      "****Removing record  [8]\n",
      "[8]  exists in the following row (VerifyUniquePKval):\n",
      "{'car_num': 8, 'car_model': 'someCar', 'car_year': 'someYear'}\n",
      "****Removing record  [8]\n",
      "[5, 5, 'someRepairDate']  exists in the following row (VerifyUniquePKval):\n",
      "{'mech_num': 5, 'car_num': 5, 'repair_date': 'someRepairDate'}\n",
      "****Removing record  [5, 5, 'someRepairDate']\n",
      "[5]  exists in the following row (VerifyUniquePKval):\n",
      "{'mech_num': 5, 'mech_name': 'someName', 'mech_salary': 'someSalary', 'mech_specialty': 'someSpecialty'}\n",
      "****Removing record  [5]\n",
      "[5]  exists in the following row (VerifyUniquePKval):\n",
      "{'car_num': 5, 'car_model': 'someCar', 'car_year': 'someYear'}\n",
      "****Removing record  [5]\n"
     ]
    }
   ],
   "source": [
    "deleteStartTime = time.time() #deleteStartTime/EndTime only use to give an overall time for the delete loop\n",
    "deleteAll_times = DeleteData()\n",
    "deleteEndTime = time.time()"
   ]
  },
  {
   "cell_type": "code",
   "execution_count": 55,
   "metadata": {},
   "outputs": [
    {
     "name": "stdout",
     "output_type": "stream",
     "text": [
      "Verifying Constraints is DISABLED\n",
      "Statistics for Insert with 10 rows, Verify Constraints set to: False\n",
      "Verifying Constraints is DISABLED\n",
      "Statistics for:  RepairTable\n",
      "\tMEDIAN1.2068748474121094 ms\n",
      "\tMEAN  1.4759063720703125 ms\n",
      "\tSTDEV 0.6929920248288116 ms\n",
      "Verifying Constraints is DISABLED\n",
      "Statistics for:  MechTable\n",
      "\tMEDIAN1.1532306671142578 ms\n",
      "\tMEAN  1.3197898864746094 ms\n",
      "\tSTDEV 0.4071002509196096 ms\n",
      "Verifying Constraints is DISABLED\n",
      "Statistics for:  CarTable\n",
      "\tMEDIAN1.1255741119384766 ms\n",
      "\tMEAN  1.2801170349121094 ms\n",
      "\tSTDEV 0.3294625332360354 ms\n"
     ]
    }
   ],
   "source": [
    "noConstraintTimesAll = report_times(deleteAll_times)"
   ]
  },
  {
   "cell_type": "code",
   "execution_count": 56,
   "metadata": {},
   "outputs": [
    {
     "name": "stdout",
     "output_type": "stream",
     "text": [
      "Total Delete Time: 0.020561695098876953 seconds, 3 tables\n",
      "Statistics for:  RepairTable\n",
      "\n",
      "\n",
      "\tWith Constraints:\t\tWithout Constraints\t\tPercent Difference, 10 rows\n",
      "MEDIAN:\t3.705739974975586 \t\t1.2068748474121094 ms\t\t207.05254839984195\n",
      "MEAN:\t4.221343994140625 \t\t1.4759063720703125 ms\t\t204.2452830188679\n",
      "STDEV:\t1.2817323451635583 \t\t0.6929920248288116 ms\t\t84.95629087220476\n",
      "\n",
      "\n",
      "Statistics for:  MechTable\n",
      "\n",
      "\n",
      "\tWith Constraints:\t\tWithout Constraints\t\tPercent Difference, 10 rows\n",
      "MEDIAN:\t1.24359130859375 \t\t1.1532306671142578 ms\t\t7.835435187099442\n",
      "MEAN:\t1.2331008911132812 \t\t1.3197898864746094 ms\t\t6.051737842329648\n",
      "STDEV:\t0.058039378213424316 \t\t0.4071002509196096 ms\t\t-85.74322219592898\n",
      "\n",
      "\n",
      "Statistics for:  CarTable\n",
      "\n",
      "\n",
      "\tWith Constraints:\t\tWithout Constraints\t\tPercent Difference, 10 rows\n",
      "MEDIAN:\t1.2421607971191406 \t\t1.1255741119384766 ms\t\t10.357975005295488\n",
      "MEAN:\t1.2804985046386719 \t\t1.2801170349121094 ms\t\t12.102361618118156\n",
      "STDEV:\t0.12511267950272062 \t\t0.3294625332360354 ms\t\t-62.025217777013\n",
      "\n",
      "\n"
     ]
    }
   ],
   "source": [
    "benchdata.rcrd_data(\"Total Delete Time: {} seconds, 3 tables\".format(deleteEndTime - deleteStartTime))\n",
    "report_statistics(withConstraintTimesAll, noConstraintTimesAll)"
   ]
  },
  {
   "cell_type": "code",
   "execution_count": 57,
   "metadata": {},
   "outputs": [],
   "source": [
    "benchdata.close()\n",
    "del benchdata"
   ]
  },
  {
   "cell_type": "markdown",
   "metadata": {},
   "source": [
    "Finally, remove the leftover tables"
   ]
  },
  {
   "cell_type": "code",
   "execution_count": 58,
   "metadata": {},
   "outputs": [
    {
     "name": "stdout",
     "output_type": "stream",
     "text": [
      "Removing rows in Table  mechanics\n",
      "Removing rows in Table  cars\n",
      "Removing rows in Table  repairs\n",
      "Removing rows in Table  mech_num_FKTable\n",
      "Removing rows in Table  car_num_FKTable\n",
      "Note:  15 records removed\n"
     ]
    }
   ],
   "source": [
    "Table.RemoveAllTables(client, True) #True to wait for confirmation"
   ]
  },
  {
   "cell_type": "code",
   "execution_count": 59,
   "metadata": {},
   "outputs": [],
   "source": [
    "client.close()"
   ]
  },
  {
   "cell_type": "code",
   "execution_count": null,
   "metadata": {},
   "outputs": [],
   "source": []
  }
 ],
 "metadata": {
  "kernelspec": {
   "display_name": "Python 3",
   "language": "python",
   "name": "python3"
  },
  "language_info": {
   "codemirror_mode": {
    "name": "ipython",
    "version": 3
   },
   "file_extension": ".py",
   "mimetype": "text/x-python",
   "name": "python",
   "nbconvert_exporter": "python",
   "pygments_lexer": "ipython3",
   "version": "3.6.8"
  }
 },
 "nbformat": 4,
 "nbformat_minor": 2
}
